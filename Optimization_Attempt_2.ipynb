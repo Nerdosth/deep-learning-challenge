{
 "cells": [
  {
   "cell_type": "markdown",
   "metadata": {},
   "source": [
    "## Preprocessing"
   ]
  },
  {
   "cell_type": "code",
   "execution_count": 23,
   "metadata": {},
   "outputs": [
    {
     "data": {
      "text/html": [
       "<div>\n",
       "<style scoped>\n",
       "    .dataframe tbody tr th:only-of-type {\n",
       "        vertical-align: middle;\n",
       "    }\n",
       "\n",
       "    .dataframe tbody tr th {\n",
       "        vertical-align: top;\n",
       "    }\n",
       "\n",
       "    .dataframe thead th {\n",
       "        text-align: right;\n",
       "    }\n",
       "</style>\n",
       "<table border=\"1\" class=\"dataframe\">\n",
       "  <thead>\n",
       "    <tr style=\"text-align: right;\">\n",
       "      <th></th>\n",
       "      <th>EIN</th>\n",
       "      <th>NAME</th>\n",
       "      <th>APPLICATION_TYPE</th>\n",
       "      <th>AFFILIATION</th>\n",
       "      <th>CLASSIFICATION</th>\n",
       "      <th>USE_CASE</th>\n",
       "      <th>ORGANIZATION</th>\n",
       "      <th>STATUS</th>\n",
       "      <th>INCOME_AMT</th>\n",
       "      <th>SPECIAL_CONSIDERATIONS</th>\n",
       "      <th>ASK_AMT</th>\n",
       "      <th>IS_SUCCESSFUL</th>\n",
       "    </tr>\n",
       "  </thead>\n",
       "  <tbody>\n",
       "    <tr>\n",
       "      <th>0</th>\n",
       "      <td>10520599</td>\n",
       "      <td>BLUE KNIGHTS MOTORCYCLE CLUB</td>\n",
       "      <td>T10</td>\n",
       "      <td>Independent</td>\n",
       "      <td>C1000</td>\n",
       "      <td>ProductDev</td>\n",
       "      <td>Association</td>\n",
       "      <td>1</td>\n",
       "      <td>0</td>\n",
       "      <td>N</td>\n",
       "      <td>5000</td>\n",
       "      <td>1</td>\n",
       "    </tr>\n",
       "    <tr>\n",
       "      <th>1</th>\n",
       "      <td>10531628</td>\n",
       "      <td>AMERICAN CHESAPEAKE CLUB CHARITABLE TR</td>\n",
       "      <td>T3</td>\n",
       "      <td>Independent</td>\n",
       "      <td>C2000</td>\n",
       "      <td>Preservation</td>\n",
       "      <td>Co-operative</td>\n",
       "      <td>1</td>\n",
       "      <td>1-9999</td>\n",
       "      <td>N</td>\n",
       "      <td>108590</td>\n",
       "      <td>1</td>\n",
       "    </tr>\n",
       "    <tr>\n",
       "      <th>2</th>\n",
       "      <td>10547893</td>\n",
       "      <td>ST CLOUD PROFESSIONAL FIREFIGHTERS</td>\n",
       "      <td>T5</td>\n",
       "      <td>CompanySponsored</td>\n",
       "      <td>C3000</td>\n",
       "      <td>ProductDev</td>\n",
       "      <td>Association</td>\n",
       "      <td>1</td>\n",
       "      <td>0</td>\n",
       "      <td>N</td>\n",
       "      <td>5000</td>\n",
       "      <td>0</td>\n",
       "    </tr>\n",
       "    <tr>\n",
       "      <th>3</th>\n",
       "      <td>10553066</td>\n",
       "      <td>SOUTHSIDE ATHLETIC ASSOCIATION</td>\n",
       "      <td>T3</td>\n",
       "      <td>CompanySponsored</td>\n",
       "      <td>C2000</td>\n",
       "      <td>Preservation</td>\n",
       "      <td>Trust</td>\n",
       "      <td>1</td>\n",
       "      <td>10000-24999</td>\n",
       "      <td>N</td>\n",
       "      <td>6692</td>\n",
       "      <td>1</td>\n",
       "    </tr>\n",
       "    <tr>\n",
       "      <th>4</th>\n",
       "      <td>10556103</td>\n",
       "      <td>GENETIC RESEARCH INSTITUTE OF THE DESERT</td>\n",
       "      <td>T3</td>\n",
       "      <td>Independent</td>\n",
       "      <td>C1000</td>\n",
       "      <td>Heathcare</td>\n",
       "      <td>Trust</td>\n",
       "      <td>1</td>\n",
       "      <td>100000-499999</td>\n",
       "      <td>N</td>\n",
       "      <td>142590</td>\n",
       "      <td>1</td>\n",
       "    </tr>\n",
       "  </tbody>\n",
       "</table>\n",
       "</div>"
      ],
      "text/plain": [
       "        EIN                                      NAME APPLICATION_TYPE  \\\n",
       "0  10520599              BLUE KNIGHTS MOTORCYCLE CLUB              T10   \n",
       "1  10531628    AMERICAN CHESAPEAKE CLUB CHARITABLE TR               T3   \n",
       "2  10547893        ST CLOUD PROFESSIONAL FIREFIGHTERS               T5   \n",
       "3  10553066            SOUTHSIDE ATHLETIC ASSOCIATION               T3   \n",
       "4  10556103  GENETIC RESEARCH INSTITUTE OF THE DESERT               T3   \n",
       "\n",
       "        AFFILIATION CLASSIFICATION      USE_CASE  ORGANIZATION  STATUS  \\\n",
       "0       Independent          C1000    ProductDev   Association       1   \n",
       "1       Independent          C2000  Preservation  Co-operative       1   \n",
       "2  CompanySponsored          C3000    ProductDev   Association       1   \n",
       "3  CompanySponsored          C2000  Preservation         Trust       1   \n",
       "4       Independent          C1000     Heathcare         Trust       1   \n",
       "\n",
       "      INCOME_AMT SPECIAL_CONSIDERATIONS  ASK_AMT  IS_SUCCESSFUL  \n",
       "0              0                      N     5000              1  \n",
       "1         1-9999                      N   108590              1  \n",
       "2              0                      N     5000              0  \n",
       "3    10000-24999                      N     6692              1  \n",
       "4  100000-499999                      N   142590              1  "
      ]
     },
     "execution_count": 23,
     "metadata": {},
     "output_type": "execute_result"
    }
   ],
   "source": [
    "# Import our dependencies\n",
    "from sklearn.model_selection import train_test_split\n",
    "from sklearn.preprocessing import StandardScaler\n",
    "import pandas as pd\n",
    "import tensorflow as tf\n",
    "\n",
    "#  Import and read the charity_data.csv.\n",
    "import pandas as pd \n",
    "application_df = pd.read_csv(\"Resources/charity_data.csv\")\n",
    "application_df.head()"
   ]
  },
  {
   "cell_type": "code",
   "execution_count": 24,
   "metadata": {},
   "outputs": [],
   "source": [
    "# Drop the non-beneficial ID columns, 'EIN' and 'NAME'.\n",
    "application_df = application_df.drop(columns=['EIN', 'NAME', 'SPECIAL_CONSIDERATIONS', 'STATUS'])"
   ]
  },
  {
   "cell_type": "code",
   "execution_count": 25,
   "metadata": {},
   "outputs": [
    {
     "data": {
      "text/html": [
       "<div>\n",
       "<style scoped>\n",
       "    .dataframe tbody tr th:only-of-type {\n",
       "        vertical-align: middle;\n",
       "    }\n",
       "\n",
       "    .dataframe tbody tr th {\n",
       "        vertical-align: top;\n",
       "    }\n",
       "\n",
       "    .dataframe thead th {\n",
       "        text-align: right;\n",
       "    }\n",
       "</style>\n",
       "<table border=\"1\" class=\"dataframe\">\n",
       "  <thead>\n",
       "    <tr style=\"text-align: right;\">\n",
       "      <th></th>\n",
       "      <th>APPLICATION_TYPE</th>\n",
       "      <th>AFFILIATION</th>\n",
       "      <th>CLASSIFICATION</th>\n",
       "      <th>USE_CASE</th>\n",
       "      <th>ORGANIZATION</th>\n",
       "      <th>INCOME_AMT</th>\n",
       "      <th>ASK_AMT</th>\n",
       "      <th>IS_SUCCESSFUL</th>\n",
       "    </tr>\n",
       "  </thead>\n",
       "  <tbody>\n",
       "  </tbody>\n",
       "</table>\n",
       "</div>"
      ],
      "text/plain": [
       "Empty DataFrame\n",
       "Columns: [APPLICATION_TYPE, AFFILIATION, CLASSIFICATION, USE_CASE, ORGANIZATION, INCOME_AMT, ASK_AMT, IS_SUCCESSFUL]\n",
       "Index: []"
      ]
     },
     "execution_count": 25,
     "metadata": {},
     "output_type": "execute_result"
    }
   ],
   "source": [
    "#confirm the columsn were removed\n",
    "application_df.head(0)"
   ]
  },
  {
   "cell_type": "code",
   "execution_count": 26,
   "metadata": {},
   "outputs": [
    {
     "data": {
      "text/plain": [
       "APPLICATION_TYPE      17\n",
       "AFFILIATION            6\n",
       "CLASSIFICATION        71\n",
       "USE_CASE               5\n",
       "ORGANIZATION           4\n",
       "INCOME_AMT             9\n",
       "ASK_AMT             8747\n",
       "IS_SUCCESSFUL          2\n",
       "dtype: int64"
      ]
     },
     "execution_count": 26,
     "metadata": {},
     "output_type": "execute_result"
    }
   ],
   "source": [
    "# Determine the number of unique values in each column.\n",
    "application_df.nunique()"
   ]
  },
  {
   "cell_type": "code",
   "execution_count": 27,
   "metadata": {},
   "outputs": [
    {
     "data": {
      "text/plain": [
       "5000        25398\n",
       "10478           3\n",
       "15583           3\n",
       "63981           3\n",
       "6725            3\n",
       "            ...  \n",
       "5371754         1\n",
       "30060           1\n",
       "43091152        1\n",
       "18683           1\n",
       "36500179        1\n",
       "Name: ASK_AMT, Length: 8747, dtype: int64"
      ]
     },
     "execution_count": 27,
     "metadata": {},
     "output_type": "execute_result"
    }
   ],
   "source": [
    "application_df['ASK_AMT'].value_counts()"
   ]
  },
  {
   "cell_type": "code",
   "execution_count": 28,
   "metadata": {},
   "outputs": [],
   "source": [
    "# Assign values counts to a variable to create bins. \n",
    "ammount_counts = application_df['ASK_AMT'].value_counts()\n",
    "# gather all the application types that will be binned into \"Other\"\n",
    "ammount_types_to_replace = list(ammount_counts[ammount_counts<2].index)"
   ]
  },
  {
   "cell_type": "code",
   "execution_count": 29,
   "metadata": {},
   "outputs": [
    {
     "data": {
      "text/plain": [
       "5000     25398\n",
       "Other     8595\n",
       "63981        3\n",
       "15583        3\n",
       "6725         3\n",
       "         ...  \n",
       "40429        2\n",
       "57588        2\n",
       "20537        2\n",
       "34875        2\n",
       "5731         2\n",
       "Name: ASK_AMT, Length: 153, dtype: int64"
      ]
     },
     "execution_count": 29,
     "metadata": {},
     "output_type": "execute_result"
    }
   ],
   "source": [
    "# Replace in dataframe\n",
    "for count in ammount_types_to_replace:\n",
    "    application_df['ASK_AMT'] = application_df['ASK_AMT'].replace(count,\"Other\")\n",
    "\n",
    "# Check to make sure binning was successful\n",
    "application_df['ASK_AMT'].value_counts()"
   ]
  },
  {
   "cell_type": "code",
   "execution_count": 30,
   "metadata": {},
   "outputs": [
    {
     "data": {
      "text/plain": [
       "T3     27037\n",
       "T4      1542\n",
       "T6      1216\n",
       "T5      1173\n",
       "T19     1065\n",
       "T8       737\n",
       "T7       725\n",
       "T10      528\n",
       "T9       156\n",
       "T13       66\n",
       "T12       27\n",
       "T2        16\n",
       "T25        3\n",
       "T14        3\n",
       "T29        2\n",
       "T15        2\n",
       "T17        1\n",
       "Name: APPLICATION_TYPE, dtype: int64"
      ]
     },
     "execution_count": 30,
     "metadata": {},
     "output_type": "execute_result"
    }
   ],
   "source": [
    "# Look at APPLICATION_TYPE value counts for binning\n",
    "application_df['APPLICATION_TYPE'].value_counts()"
   ]
  },
  {
   "cell_type": "code",
   "execution_count": 31,
   "metadata": {},
   "outputs": [
    {
     "data": {
      "text/plain": [
       "['T9', 'T13', 'T12', 'T2', 'T25', 'T14', 'T29', 'T15', 'T17']"
      ]
     },
     "execution_count": 31,
     "metadata": {},
     "output_type": "execute_result"
    }
   ],
   "source": [
    "# Assign values counts to a variable to create bins. \n",
    "application_counts = application_df['APPLICATION_TYPE'].value_counts()\n",
    "# gather all the application types that will be binned into \"Other\"\n",
    "application_types_to_replace = list(application_counts[application_counts<500].index)\n",
    "application_types_to_replace"
   ]
  },
  {
   "cell_type": "code",
   "execution_count": 32,
   "metadata": {},
   "outputs": [
    {
     "data": {
      "text/plain": [
       "T3       27037\n",
       "T4        1542\n",
       "T6        1216\n",
       "T5        1173\n",
       "T19       1065\n",
       "T8         737\n",
       "T7         725\n",
       "T10        528\n",
       "Other      276\n",
       "Name: APPLICATION_TYPE, dtype: int64"
      ]
     },
     "execution_count": 32,
     "metadata": {},
     "output_type": "execute_result"
    }
   ],
   "source": [
    "# Replace in dataframe\n",
    "for app in application_types_to_replace:\n",
    "    application_df['APPLICATION_TYPE'] = application_df['APPLICATION_TYPE'].replace(app,\"Other\")\n",
    "\n",
    "# Check to make sure binning was successful\n",
    "application_df['APPLICATION_TYPE'].value_counts()"
   ]
  },
  {
   "cell_type": "code",
   "execution_count": 33,
   "metadata": {},
   "outputs": [
    {
     "data": {
      "text/plain": [
       "C1000    17326\n",
       "C2000     6074\n",
       "C1200     4837\n",
       "C3000     1918\n",
       "C2100     1883\n",
       "         ...  \n",
       "C4120        1\n",
       "C8210        1\n",
       "C2561        1\n",
       "C4500        1\n",
       "C2150        1\n",
       "Name: CLASSIFICATION, Length: 71, dtype: int64"
      ]
     },
     "execution_count": 33,
     "metadata": {},
     "output_type": "execute_result"
    }
   ],
   "source": [
    "# Look at CLASSIFICATION value counts for binning\n",
    "application_df['CLASSIFICATION'].value_counts()"
   ]
  },
  {
   "cell_type": "code",
   "execution_count": 34,
   "metadata": {},
   "outputs": [
    {
     "data": {
      "text/plain": [
       "C1000    17326\n",
       "C2000     6074\n",
       "C1200     4837\n",
       "C3000     1918\n",
       "C2100     1883\n",
       "C7000      777\n",
       "C1700      287\n",
       "C4000      194\n",
       "C5000      116\n",
       "C1270      114\n",
       "C2700      104\n",
       "C2800       95\n",
       "C7100       75\n",
       "C1300       58\n",
       "C1280       50\n",
       "C1230       36\n",
       "C1400       34\n",
       "C7200       32\n",
       "C2300       32\n",
       "C1240       30\n",
       "C8000       20\n",
       "C7120       18\n",
       "C1500       16\n",
       "C1800       15\n",
       "C6000       15\n",
       "C1250       14\n",
       "C8200       11\n",
       "C1238       10\n",
       "C1278       10\n",
       "C1235        9\n",
       "C1237        9\n",
       "C7210        7\n",
       "C2400        6\n",
       "C1720        6\n",
       "C4100        6\n",
       "C1257        5\n",
       "C1600        5\n",
       "C1260        3\n",
       "C2710        3\n",
       "C0           3\n",
       "C3200        2\n",
       "C1234        2\n",
       "C1246        2\n",
       "C1267        2\n",
       "C1256        2\n",
       "Name: CLASSIFICATION, dtype: int64"
      ]
     },
     "execution_count": 34,
     "metadata": {},
     "output_type": "execute_result"
    }
   ],
   "source": [
    "# You may find it helpful to look at CLASSIFICATION value counts >1\n",
    "application_df['CLASSIFICATION'].value_counts().loc[lambda x : x >1]"
   ]
  },
  {
   "cell_type": "code",
   "execution_count": 35,
   "metadata": {},
   "outputs": [
    {
     "data": {
      "text/plain": [
       "C1000    17326\n",
       "C2000     6074\n",
       "C1200     4837\n",
       "Other     2261\n",
       "C3000     1918\n",
       "C2100     1883\n",
       "Name: CLASSIFICATION, dtype: int64"
      ]
     },
     "execution_count": 35,
     "metadata": {},
     "output_type": "execute_result"
    }
   ],
   "source": [
    "# Choose a cutoff value and create a list of classifications to be replaced\n",
    "# use the variable name `classifications_to_replace`\n",
    "classification_counts = application_df['CLASSIFICATION'].value_counts()\n",
    "classifications_to_replace = list(classification_counts[classification_counts<1000].index)\n",
    "\n",
    "# Replace in dataframe\n",
    "for cls in classifications_to_replace:\n",
    "    application_df['CLASSIFICATION'] = application_df['CLASSIFICATION'].replace(cls,\"Other\")\n",
    "    \n",
    "# Check to make sure binning was successful\n",
    "application_df['CLASSIFICATION'].value_counts()"
   ]
  },
  {
   "cell_type": "code",
   "execution_count": 36,
   "metadata": {},
   "outputs": [
    {
     "data": {
      "text/html": [
       "<div>\n",
       "<style scoped>\n",
       "    .dataframe tbody tr th:only-of-type {\n",
       "        vertical-align: middle;\n",
       "    }\n",
       "\n",
       "    .dataframe tbody tr th {\n",
       "        vertical-align: top;\n",
       "    }\n",
       "\n",
       "    .dataframe thead th {\n",
       "        text-align: right;\n",
       "    }\n",
       "</style>\n",
       "<table border=\"1\" class=\"dataframe\">\n",
       "  <thead>\n",
       "    <tr style=\"text-align: right;\">\n",
       "      <th></th>\n",
       "      <th>IS_SUCCESSFUL</th>\n",
       "      <th>APPLICATION_TYPE_Other</th>\n",
       "      <th>APPLICATION_TYPE_T10</th>\n",
       "      <th>APPLICATION_TYPE_T19</th>\n",
       "      <th>APPLICATION_TYPE_T3</th>\n",
       "      <th>APPLICATION_TYPE_T4</th>\n",
       "      <th>APPLICATION_TYPE_T5</th>\n",
       "      <th>APPLICATION_TYPE_T6</th>\n",
       "      <th>APPLICATION_TYPE_T7</th>\n",
       "      <th>APPLICATION_TYPE_T8</th>\n",
       "      <th>...</th>\n",
       "      <th>ASK_AMT_195661</th>\n",
       "      <th>ASK_AMT_201112</th>\n",
       "      <th>ASK_AMT_206725</th>\n",
       "      <th>ASK_AMT_210432</th>\n",
       "      <th>ASK_AMT_238933</th>\n",
       "      <th>ASK_AMT_240780</th>\n",
       "      <th>ASK_AMT_246851</th>\n",
       "      <th>ASK_AMT_350000</th>\n",
       "      <th>ASK_AMT_1427468</th>\n",
       "      <th>ASK_AMT_Other</th>\n",
       "    </tr>\n",
       "  </thead>\n",
       "  <tbody>\n",
       "    <tr>\n",
       "      <th>0</th>\n",
       "      <td>1</td>\n",
       "      <td>0</td>\n",
       "      <td>1</td>\n",
       "      <td>0</td>\n",
       "      <td>0</td>\n",
       "      <td>0</td>\n",
       "      <td>0</td>\n",
       "      <td>0</td>\n",
       "      <td>0</td>\n",
       "      <td>0</td>\n",
       "      <td>...</td>\n",
       "      <td>0</td>\n",
       "      <td>0</td>\n",
       "      <td>0</td>\n",
       "      <td>0</td>\n",
       "      <td>0</td>\n",
       "      <td>0</td>\n",
       "      <td>0</td>\n",
       "      <td>0</td>\n",
       "      <td>0</td>\n",
       "      <td>0</td>\n",
       "    </tr>\n",
       "    <tr>\n",
       "      <th>1</th>\n",
       "      <td>1</td>\n",
       "      <td>0</td>\n",
       "      <td>0</td>\n",
       "      <td>0</td>\n",
       "      <td>1</td>\n",
       "      <td>0</td>\n",
       "      <td>0</td>\n",
       "      <td>0</td>\n",
       "      <td>0</td>\n",
       "      <td>0</td>\n",
       "      <td>...</td>\n",
       "      <td>0</td>\n",
       "      <td>0</td>\n",
       "      <td>0</td>\n",
       "      <td>0</td>\n",
       "      <td>0</td>\n",
       "      <td>0</td>\n",
       "      <td>0</td>\n",
       "      <td>0</td>\n",
       "      <td>0</td>\n",
       "      <td>1</td>\n",
       "    </tr>\n",
       "    <tr>\n",
       "      <th>2</th>\n",
       "      <td>0</td>\n",
       "      <td>0</td>\n",
       "      <td>0</td>\n",
       "      <td>0</td>\n",
       "      <td>0</td>\n",
       "      <td>0</td>\n",
       "      <td>1</td>\n",
       "      <td>0</td>\n",
       "      <td>0</td>\n",
       "      <td>0</td>\n",
       "      <td>...</td>\n",
       "      <td>0</td>\n",
       "      <td>0</td>\n",
       "      <td>0</td>\n",
       "      <td>0</td>\n",
       "      <td>0</td>\n",
       "      <td>0</td>\n",
       "      <td>0</td>\n",
       "      <td>0</td>\n",
       "      <td>0</td>\n",
       "      <td>0</td>\n",
       "    </tr>\n",
       "    <tr>\n",
       "      <th>3</th>\n",
       "      <td>1</td>\n",
       "      <td>0</td>\n",
       "      <td>0</td>\n",
       "      <td>0</td>\n",
       "      <td>1</td>\n",
       "      <td>0</td>\n",
       "      <td>0</td>\n",
       "      <td>0</td>\n",
       "      <td>0</td>\n",
       "      <td>0</td>\n",
       "      <td>...</td>\n",
       "      <td>0</td>\n",
       "      <td>0</td>\n",
       "      <td>0</td>\n",
       "      <td>0</td>\n",
       "      <td>0</td>\n",
       "      <td>0</td>\n",
       "      <td>0</td>\n",
       "      <td>0</td>\n",
       "      <td>0</td>\n",
       "      <td>1</td>\n",
       "    </tr>\n",
       "    <tr>\n",
       "      <th>4</th>\n",
       "      <td>1</td>\n",
       "      <td>0</td>\n",
       "      <td>0</td>\n",
       "      <td>0</td>\n",
       "      <td>1</td>\n",
       "      <td>0</td>\n",
       "      <td>0</td>\n",
       "      <td>0</td>\n",
       "      <td>0</td>\n",
       "      <td>0</td>\n",
       "      <td>...</td>\n",
       "      <td>0</td>\n",
       "      <td>0</td>\n",
       "      <td>0</td>\n",
       "      <td>0</td>\n",
       "      <td>0</td>\n",
       "      <td>0</td>\n",
       "      <td>0</td>\n",
       "      <td>0</td>\n",
       "      <td>0</td>\n",
       "      <td>1</td>\n",
       "    </tr>\n",
       "  </tbody>\n",
       "</table>\n",
       "<p>5 rows × 193 columns</p>\n",
       "</div>"
      ],
      "text/plain": [
       "   IS_SUCCESSFUL  APPLICATION_TYPE_Other  APPLICATION_TYPE_T10  \\\n",
       "0              1                       0                     1   \n",
       "1              1                       0                     0   \n",
       "2              0                       0                     0   \n",
       "3              1                       0                     0   \n",
       "4              1                       0                     0   \n",
       "\n",
       "   APPLICATION_TYPE_T19  APPLICATION_TYPE_T3  APPLICATION_TYPE_T4  \\\n",
       "0                     0                    0                    0   \n",
       "1                     0                    1                    0   \n",
       "2                     0                    0                    0   \n",
       "3                     0                    1                    0   \n",
       "4                     0                    1                    0   \n",
       "\n",
       "   APPLICATION_TYPE_T5  APPLICATION_TYPE_T6  APPLICATION_TYPE_T7  \\\n",
       "0                    0                    0                    0   \n",
       "1                    0                    0                    0   \n",
       "2                    1                    0                    0   \n",
       "3                    0                    0                    0   \n",
       "4                    0                    0                    0   \n",
       "\n",
       "   APPLICATION_TYPE_T8  ...  ASK_AMT_195661  ASK_AMT_201112  ASK_AMT_206725  \\\n",
       "0                    0  ...               0               0               0   \n",
       "1                    0  ...               0               0               0   \n",
       "2                    0  ...               0               0               0   \n",
       "3                    0  ...               0               0               0   \n",
       "4                    0  ...               0               0               0   \n",
       "\n",
       "   ASK_AMT_210432  ASK_AMT_238933  ASK_AMT_240780  ASK_AMT_246851  \\\n",
       "0               0               0               0               0   \n",
       "1               0               0               0               0   \n",
       "2               0               0               0               0   \n",
       "3               0               0               0               0   \n",
       "4               0               0               0               0   \n",
       "\n",
       "   ASK_AMT_350000  ASK_AMT_1427468  ASK_AMT_Other  \n",
       "0               0                0              0  \n",
       "1               0                0              1  \n",
       "2               0                0              0  \n",
       "3               0                0              1  \n",
       "4               0                0              1  \n",
       "\n",
       "[5 rows x 193 columns]"
      ]
     },
     "execution_count": 36,
     "metadata": {},
     "output_type": "execute_result"
    }
   ],
   "source": [
    "# Convert categorical data to numeric with `pd.get_dummies`\n",
    "application_dummy_df = pd.get_dummies(application_df)\n",
    "application_dummy_df.head()"
   ]
  },
  {
   "cell_type": "code",
   "execution_count": 37,
   "metadata": {},
   "outputs": [
    {
     "name": "stdout",
     "output_type": "stream",
     "text": [
      "(34299, 192) (34299,)\n"
     ]
    }
   ],
   "source": [
    "# Split our preprocessed data into our features and target arrays\n",
    "X = application_dummy_df.drop(\"IS_SUCCESSFUL\", axis=1).values\n",
    "y = application_dummy_df[\"IS_SUCCESSFUL\"].values\n",
    "print(X.shape, y.shape)"
   ]
  },
  {
   "cell_type": "code",
   "execution_count": 38,
   "metadata": {},
   "outputs": [
    {
     "name": "stdout",
     "output_type": "stream",
     "text": [
      "(27439, 192) (27439,) (6860, 192) (6860,)\n"
     ]
    }
   ],
   "source": [
    "# Split the preprocessed data into a training and testing dataset\n",
    "X_train, X_test, y_train, y_test = train_test_split(X, y, test_size = 0.20, random_state=42)\n",
    "\n",
    "print(X_train.shape, y_train.shape, X_test.shape, y_test.shape)"
   ]
  },
  {
   "cell_type": "code",
   "execution_count": 39,
   "metadata": {},
   "outputs": [
    {
     "name": "stdout",
     "output_type": "stream",
     "text": [
      "(27439, 192) (6860, 192)\n"
     ]
    }
   ],
   "source": [
    "# Create a StandardScaler instances\n",
    "scaler = StandardScaler()\n",
    "\n",
    "# Fit the StandardScaler\n",
    "X_scaler = scaler.fit(X_train)\n",
    "\n",
    "# Scale the data\n",
    "X_train_scaled = X_scaler.transform(X_train)\n",
    "X_test_scaled = X_scaler.transform(X_test)\n",
    "\n",
    "print(X_train_scaled.shape, X_test_scaled.shape)"
   ]
  },
  {
   "cell_type": "markdown",
   "metadata": {},
   "source": [
    "## Compile, Train and Evaluate the Model"
   ]
  },
  {
   "cell_type": "code",
   "execution_count": 40,
   "metadata": {},
   "outputs": [
    {
     "name": "stdout",
     "output_type": "stream",
     "text": [
      "Model: \"sequential_1\"\n",
      "_________________________________________________________________\n",
      " Layer (type)                Output Shape              Param #   \n",
      "=================================================================\n",
      " dense_6 (Dense)             (None, 80)                15440     \n",
      "                                                                 \n",
      " dense_7 (Dense)             (None, 30)                2430      \n",
      "                                                                 \n",
      " dense_8 (Dense)             (None, 1)                 31        \n",
      "                                                                 \n",
      "=================================================================\n",
      "Total params: 17,901\n",
      "Trainable params: 17,901\n",
      "Non-trainable params: 0\n",
      "_________________________________________________________________\n"
     ]
    }
   ],
   "source": [
    "# Define the model - deep neural net, i.e., the number of input features and hidden nodes for each layer.\n",
    "nn = tf.keras.models.Sequential()\n",
    "\n",
    "# First hidden layer\n",
    "nn.add(tf.keras.layers.Dense(units=80, activation=\"relu\", input_dim=192))\n",
    "# Second hidden layer\n",
    "nn.add(tf.keras.layers.Dense(units=30, activation=\"relu\"))\n",
    "\n",
    "# Output layer\n",
    "nn.add(tf.keras.layers.Dense(units=1, activation=\"sigmoid\"))\n",
    "\n",
    "# Check the structure of the model\n",
    "nn.summary()"
   ]
  },
  {
   "cell_type": "code",
   "execution_count": 41,
   "metadata": {},
   "outputs": [],
   "source": [
    "# Compile the model\n",
    "nn.compile(loss=\"binary_crossentropy\", optimizer=\"adam\", metrics=[\"accuracy\"])"
   ]
  },
  {
   "cell_type": "code",
   "execution_count": 42,
   "metadata": {},
   "outputs": [
    {
     "name": "stdout",
     "output_type": "stream",
     "text": [
      "Epoch 1/80\n",
      "686/686 [==============================] - 2s 2ms/step - loss: 0.5912 - accuracy: 0.7154 - val_loss: 0.5561 - val_accuracy: 0.7314\n",
      "Epoch 2/80\n",
      "686/686 [==============================] - 1s 1ms/step - loss: 0.5575 - accuracy: 0.7277 - val_loss: 0.5541 - val_accuracy: 0.7331\n",
      "Epoch 3/80\n",
      "686/686 [==============================] - 1s 1ms/step - loss: 0.5537 - accuracy: 0.7292 - val_loss: 0.5571 - val_accuracy: 0.7356\n",
      "Epoch 4/80\n",
      "686/686 [==============================] - 1s 1ms/step - loss: 0.5507 - accuracy: 0.7307 - val_loss: 0.5546 - val_accuracy: 0.7367\n",
      "Epoch 5/80\n",
      "686/686 [==============================] - 1s 1ms/step - loss: 0.5482 - accuracy: 0.7299 - val_loss: 0.5553 - val_accuracy: 0.7362\n",
      "Epoch 6/80\n",
      "686/686 [==============================] - 1s 1ms/step - loss: 0.5477 - accuracy: 0.7305 - val_loss: 0.5528 - val_accuracy: 0.7314\n",
      "Epoch 7/80\n",
      "686/686 [==============================] - 1s 1ms/step - loss: 0.5463 - accuracy: 0.7324 - val_loss: 0.5507 - val_accuracy: 0.7362\n",
      "Epoch 8/80\n",
      "686/686 [==============================] - 1s 1ms/step - loss: 0.5449 - accuracy: 0.7340 - val_loss: 0.5506 - val_accuracy: 0.7385\n",
      "Epoch 9/80\n",
      "686/686 [==============================] - 1s 1ms/step - loss: 0.5439 - accuracy: 0.7330 - val_loss: 0.5512 - val_accuracy: 0.7385\n",
      "Epoch 10/80\n",
      "686/686 [==============================] - 1s 1ms/step - loss: 0.5425 - accuracy: 0.7340 - val_loss: 0.5567 - val_accuracy: 0.7367\n",
      "Epoch 11/80\n",
      "686/686 [==============================] - 1s 1ms/step - loss: 0.5431 - accuracy: 0.7355 - val_loss: 0.5518 - val_accuracy: 0.7409\n",
      "Epoch 12/80\n",
      "686/686 [==============================] - 1s 1ms/step - loss: 0.5418 - accuracy: 0.7343 - val_loss: 0.5563 - val_accuracy: 0.7338\n",
      "Epoch 13/80\n",
      "686/686 [==============================] - 1s 1ms/step - loss: 0.5412 - accuracy: 0.7336 - val_loss: 0.5576 - val_accuracy: 0.7365\n",
      "Epoch 14/80\n",
      "686/686 [==============================] - 1s 1ms/step - loss: 0.5411 - accuracy: 0.7348 - val_loss: 0.5549 - val_accuracy: 0.7352\n",
      "Epoch 15/80\n",
      "686/686 [==============================] - 1s 1ms/step - loss: 0.5406 - accuracy: 0.7350 - val_loss: 0.5543 - val_accuracy: 0.7385\n",
      "Epoch 16/80\n",
      "686/686 [==============================] - 1s 1ms/step - loss: 0.5403 - accuracy: 0.7348 - val_loss: 0.5569 - val_accuracy: 0.7391\n",
      "Epoch 17/80\n",
      "686/686 [==============================] - 1s 1ms/step - loss: 0.5395 - accuracy: 0.7343 - val_loss: 0.5593 - val_accuracy: 0.7382\n",
      "Epoch 18/80\n",
      "686/686 [==============================] - 1s 1ms/step - loss: 0.5395 - accuracy: 0.7355 - val_loss: 0.5567 - val_accuracy: 0.7396\n",
      "Epoch 19/80\n",
      "686/686 [==============================] - 1s 1ms/step - loss: 0.5387 - accuracy: 0.7360 - val_loss: 0.5595 - val_accuracy: 0.7403\n",
      "Epoch 20/80\n",
      "686/686 [==============================] - 1s 1ms/step - loss: 0.5390 - accuracy: 0.7364 - val_loss: 0.5594 - val_accuracy: 0.7345\n",
      "Epoch 21/80\n",
      "686/686 [==============================] - 1s 1ms/step - loss: 0.5385 - accuracy: 0.7359 - val_loss: 0.5561 - val_accuracy: 0.7380\n",
      "Epoch 22/80\n",
      "686/686 [==============================] - 1s 1ms/step - loss: 0.5385 - accuracy: 0.7363 - val_loss: 0.5583 - val_accuracy: 0.7383\n",
      "Epoch 23/80\n",
      "686/686 [==============================] - 1s 1ms/step - loss: 0.5382 - accuracy: 0.7362 - val_loss: 0.5591 - val_accuracy: 0.7378\n",
      "Epoch 24/80\n",
      "686/686 [==============================] - 1s 1ms/step - loss: 0.5379 - accuracy: 0.7369 - val_loss: 0.5582 - val_accuracy: 0.7378\n",
      "Epoch 25/80\n",
      "686/686 [==============================] - 1s 1ms/step - loss: 0.5371 - accuracy: 0.7371 - val_loss: 0.5591 - val_accuracy: 0.7383\n",
      "Epoch 26/80\n",
      "686/686 [==============================] - 1s 1ms/step - loss: 0.5375 - accuracy: 0.7372 - val_loss: 0.5578 - val_accuracy: 0.7400\n",
      "Epoch 27/80\n",
      "686/686 [==============================] - 1s 1ms/step - loss: 0.5368 - accuracy: 0.7369 - val_loss: 0.5625 - val_accuracy: 0.7329\n",
      "Epoch 28/80\n",
      "686/686 [==============================] - 1s 1ms/step - loss: 0.5374 - accuracy: 0.7363 - val_loss: 0.5615 - val_accuracy: 0.7360\n",
      "Epoch 29/80\n",
      "686/686 [==============================] - 1s 1ms/step - loss: 0.5369 - accuracy: 0.7372 - val_loss: 0.5590 - val_accuracy: 0.7387\n",
      "Epoch 30/80\n",
      "686/686 [==============================] - 1s 1ms/step - loss: 0.5370 - accuracy: 0.7371 - val_loss: 0.5591 - val_accuracy: 0.7365\n",
      "Epoch 31/80\n",
      "686/686 [==============================] - 1s 1ms/step - loss: 0.5363 - accuracy: 0.7372 - val_loss: 0.5633 - val_accuracy: 0.7378\n",
      "Epoch 32/80\n",
      "686/686 [==============================] - 1s 1ms/step - loss: 0.5358 - accuracy: 0.7380 - val_loss: 0.5626 - val_accuracy: 0.7380\n",
      "Epoch 33/80\n",
      "686/686 [==============================] - 1s 1ms/step - loss: 0.5358 - accuracy: 0.7388 - val_loss: 0.5625 - val_accuracy: 0.7392\n",
      "Epoch 34/80\n",
      "686/686 [==============================] - 1s 1ms/step - loss: 0.5360 - accuracy: 0.7378 - val_loss: 0.5609 - val_accuracy: 0.7383\n",
      "Epoch 35/80\n",
      "686/686 [==============================] - 1s 1ms/step - loss: 0.5357 - accuracy: 0.7380 - val_loss: 0.5612 - val_accuracy: 0.7376\n",
      "Epoch 36/80\n",
      "686/686 [==============================] - 1s 1ms/step - loss: 0.5355 - accuracy: 0.7382 - val_loss: 0.5598 - val_accuracy: 0.7371\n",
      "Epoch 37/80\n",
      "686/686 [==============================] - 1s 1ms/step - loss: 0.5351 - accuracy: 0.7388 - val_loss: 0.5616 - val_accuracy: 0.7360\n",
      "Epoch 38/80\n",
      "686/686 [==============================] - 1s 1ms/step - loss: 0.5350 - accuracy: 0.7382 - val_loss: 0.5614 - val_accuracy: 0.7392\n",
      "Epoch 39/80\n",
      "686/686 [==============================] - 1s 1ms/step - loss: 0.5343 - accuracy: 0.7385 - val_loss: 0.5626 - val_accuracy: 0.7378\n",
      "Epoch 40/80\n",
      "686/686 [==============================] - 1s 1ms/step - loss: 0.5347 - accuracy: 0.7385 - val_loss: 0.5613 - val_accuracy: 0.7376\n",
      "Epoch 41/80\n",
      "686/686 [==============================] - 1s 1ms/step - loss: 0.5347 - accuracy: 0.7381 - val_loss: 0.5622 - val_accuracy: 0.7376\n",
      "Epoch 42/80\n",
      "686/686 [==============================] - 1s 1ms/step - loss: 0.5333 - accuracy: 0.7399 - val_loss: 0.5597 - val_accuracy: 0.7338\n",
      "Epoch 43/80\n",
      "686/686 [==============================] - 1s 1ms/step - loss: 0.5345 - accuracy: 0.7389 - val_loss: 0.5622 - val_accuracy: 0.7367\n",
      "Epoch 44/80\n",
      "686/686 [==============================] - 1s 1ms/step - loss: 0.5338 - accuracy: 0.7387 - val_loss: 0.5633 - val_accuracy: 0.7365\n",
      "Epoch 45/80\n",
      "686/686 [==============================] - 1s 1ms/step - loss: 0.5338 - accuracy: 0.7387 - val_loss: 0.5605 - val_accuracy: 0.7391\n",
      "Epoch 46/80\n",
      "686/686 [==============================] - 1s 1ms/step - loss: 0.5334 - accuracy: 0.7374 - val_loss: 0.5665 - val_accuracy: 0.7378\n",
      "Epoch 47/80\n",
      "686/686 [==============================] - 1s 1ms/step - loss: 0.5339 - accuracy: 0.7376 - val_loss: 0.5634 - val_accuracy: 0.7389\n",
      "Epoch 48/80\n",
      "686/686 [==============================] - 1s 1ms/step - loss: 0.5343 - accuracy: 0.7390 - val_loss: 0.5646 - val_accuracy: 0.7372\n",
      "Epoch 49/80\n",
      "686/686 [==============================] - 1s 1ms/step - loss: 0.5333 - accuracy: 0.7389 - val_loss: 0.5634 - val_accuracy: 0.7383\n",
      "Epoch 50/80\n",
      "686/686 [==============================] - 1s 1ms/step - loss: 0.5333 - accuracy: 0.7394 - val_loss: 0.5642 - val_accuracy: 0.7376\n",
      "Epoch 51/80\n",
      "686/686 [==============================] - 1s 1ms/step - loss: 0.5334 - accuracy: 0.7388 - val_loss: 0.5618 - val_accuracy: 0.7362\n",
      "Epoch 52/80\n",
      "686/686 [==============================] - 1s 1ms/step - loss: 0.5331 - accuracy: 0.7388 - val_loss: 0.5680 - val_accuracy: 0.7367\n",
      "Epoch 53/80\n",
      "686/686 [==============================] - 1s 1ms/step - loss: 0.5334 - accuracy: 0.7396 - val_loss: 0.5629 - val_accuracy: 0.7391\n",
      "Epoch 54/80\n",
      "686/686 [==============================] - 1s 1ms/step - loss: 0.5326 - accuracy: 0.7394 - val_loss: 0.5639 - val_accuracy: 0.7363\n",
      "Epoch 55/80\n",
      "686/686 [==============================] - 1s 1ms/step - loss: 0.5327 - accuracy: 0.7388 - val_loss: 0.5663 - val_accuracy: 0.7367\n",
      "Epoch 56/80\n",
      "686/686 [==============================] - 1s 1ms/step - loss: 0.5328 - accuracy: 0.7393 - val_loss: 0.5663 - val_accuracy: 0.7389\n",
      "Epoch 57/80\n",
      "686/686 [==============================] - 1s 1ms/step - loss: 0.5323 - accuracy: 0.7383 - val_loss: 0.5649 - val_accuracy: 0.7369\n",
      "Epoch 58/80\n",
      "686/686 [==============================] - 1s 1ms/step - loss: 0.5321 - accuracy: 0.7399 - val_loss: 0.5676 - val_accuracy: 0.7360\n",
      "Epoch 59/80\n",
      "686/686 [==============================] - 1s 1ms/step - loss: 0.5325 - accuracy: 0.7398 - val_loss: 0.5633 - val_accuracy: 0.7382\n",
      "Epoch 60/80\n",
      "686/686 [==============================] - 1s 1ms/step - loss: 0.5319 - accuracy: 0.7408 - val_loss: 0.5656 - val_accuracy: 0.7354\n",
      "Epoch 61/80\n",
      "686/686 [==============================] - 1s 1ms/step - loss: 0.5316 - accuracy: 0.7401 - val_loss: 0.5679 - val_accuracy: 0.7372\n",
      "Epoch 62/80\n",
      "686/686 [==============================] - 1s 1ms/step - loss: 0.5319 - accuracy: 0.7381 - val_loss: 0.5704 - val_accuracy: 0.7385\n",
      "Epoch 63/80\n",
      "686/686 [==============================] - 1s 1ms/step - loss: 0.5324 - accuracy: 0.7400 - val_loss: 0.5647 - val_accuracy: 0.7358\n",
      "Epoch 64/80\n",
      "686/686 [==============================] - 1s 1ms/step - loss: 0.5318 - accuracy: 0.7395 - val_loss: 0.5647 - val_accuracy: 0.7391\n",
      "Epoch 65/80\n",
      "686/686 [==============================] - 1s 1ms/step - loss: 0.5316 - accuracy: 0.7400 - val_loss: 0.5669 - val_accuracy: 0.7356\n",
      "Epoch 66/80\n",
      "686/686 [==============================] - 1s 2ms/step - loss: 0.5312 - accuracy: 0.7394 - val_loss: 0.5676 - val_accuracy: 0.7371\n",
      "Epoch 67/80\n",
      "686/686 [==============================] - 1s 1ms/step - loss: 0.5318 - accuracy: 0.7384 - val_loss: 0.5685 - val_accuracy: 0.7378\n",
      "Epoch 68/80\n",
      "686/686 [==============================] - 1s 2ms/step - loss: 0.5309 - accuracy: 0.7401 - val_loss: 0.5703 - val_accuracy: 0.7391\n",
      "Epoch 69/80\n",
      "686/686 [==============================] - 1s 1ms/step - loss: 0.5312 - accuracy: 0.7403 - val_loss: 0.5704 - val_accuracy: 0.7400\n",
      "Epoch 70/80\n",
      "686/686 [==============================] - 1s 2ms/step - loss: 0.5309 - accuracy: 0.7396 - val_loss: 0.5708 - val_accuracy: 0.7374\n",
      "Epoch 71/80\n",
      "686/686 [==============================] - 1s 1ms/step - loss: 0.5310 - accuracy: 0.7401 - val_loss: 0.5645 - val_accuracy: 0.7380\n",
      "Epoch 72/80\n",
      "686/686 [==============================] - 1s 2ms/step - loss: 0.5309 - accuracy: 0.7397 - val_loss: 0.5696 - val_accuracy: 0.7380\n",
      "Epoch 73/80\n",
      "686/686 [==============================] - 1s 2ms/step - loss: 0.5313 - accuracy: 0.7393 - val_loss: 0.5677 - val_accuracy: 0.7369\n",
      "Epoch 74/80\n",
      "686/686 [==============================] - 1s 1ms/step - loss: 0.5308 - accuracy: 0.7402 - val_loss: 0.5669 - val_accuracy: 0.7376\n",
      "Epoch 75/80\n",
      "686/686 [==============================] - 1s 1ms/step - loss: 0.5305 - accuracy: 0.7397 - val_loss: 0.5675 - val_accuracy: 0.7380\n",
      "Epoch 76/80\n",
      "686/686 [==============================] - 1s 1ms/step - loss: 0.5313 - accuracy: 0.7404 - val_loss: 0.5700 - val_accuracy: 0.7378\n",
      "Epoch 77/80\n",
      "686/686 [==============================] - 1s 1ms/step - loss: 0.5304 - accuracy: 0.7404 - val_loss: 0.5732 - val_accuracy: 0.7367\n",
      "Epoch 78/80\n",
      "686/686 [==============================] - 1s 1ms/step - loss: 0.5310 - accuracy: 0.7405 - val_loss: 0.5619 - val_accuracy: 0.7371\n",
      "Epoch 79/80\n",
      "686/686 [==============================] - 1s 1ms/step - loss: 0.5296 - accuracy: 0.7403 - val_loss: 0.5701 - val_accuracy: 0.7367\n",
      "Epoch 80/80\n",
      "686/686 [==============================] - 1s 1ms/step - loss: 0.5306 - accuracy: 0.7397 - val_loss: 0.5679 - val_accuracy: 0.7358\n"
     ]
    }
   ],
   "source": [
    "# Train the model\n",
    "fit_model = nn.fit(X_train_scaled, y_train, validation_split=0.20, epochs=80)"
   ]
  },
  {
   "cell_type": "code",
   "execution_count": 43,
   "metadata": {},
   "outputs": [
    {
     "name": "stdout",
     "output_type": "stream",
     "text": [
      "215/215 - 0s - loss: 0.6299 - accuracy: 0.7220 - 161ms/epoch - 750us/step\n",
      "Loss: 0.6298809051513672, Accuracy: 0.7220116853713989\n"
     ]
    }
   ],
   "source": [
    "# Evaluate the model using the test data\n",
    "model_loss, model_accuracy = nn.evaluate(X_test_scaled,y_test,verbose=2)\n",
    "print(f\"Loss: {model_loss}, Accuracy: {model_accuracy}\")"
   ]
  },
  {
   "cell_type": "code",
   "execution_count": 44,
   "metadata": {},
   "outputs": [
    {
     "data": {
      "text/plain": [
       "<AxesSubplot:>"
      ]
     },
     "execution_count": 44,
     "metadata": {},
     "output_type": "execute_result"
    },
    {
     "data": {
      "image/png": "[encoded data removed]",
      "text/plain": [
       "<Figure size 640x480 with 1 Axes>"
      ]
     },
     "metadata": {},
     "output_type": "display_data"
    }
   ],
   "source": [
    "# Create a DataFrame containing training history\n",
    "history_df = pd.DataFrame(fit_model.history, index=range(1,len(fit_model.history[\"loss\"])+1))\n",
    "\n",
    "# Plot the accuracy\n",
    "history_df.plot(y=\"accuracy\")"
   ]
  },
  {
   "attachments": {},
   "cell_type": "markdown",
   "metadata": {},
   "source": [
    "Putting ASK_AMT (Ask Ammount) bins with values ask below 1 and assigning it to 'Other', and adding additional hidden layers performed the same as Attempt 1. Next I will attempt to instead add the Name of the organization back to see if that additional feature will improve the model."
   ]
  }
 ],
 "metadata": {
  "kernelspec": {
   "display_name": "PythonML",
   "language": "python",
   "name": "python3"
  },
  "language_info": {
   "codemirror_mode": {
    "name": "ipython",
    "version": 3
   },
   "file_extension": ".py",
   "mimetype": "text/x-python",
   "name": "python",
   "nbconvert_exporter": "python",
   "pygments_lexer": "ipython3",
   "version": "3.7.7"
  },
  "vscode": {
   "interpreter": {
    "hash": "16fd6db726b79cbf3b87d528332921b610d7d3aef1e46f3518c7f18f49654b4f"
   }
  }
 },
 "nbformat": 4,
 "nbformat_minor": 4
}

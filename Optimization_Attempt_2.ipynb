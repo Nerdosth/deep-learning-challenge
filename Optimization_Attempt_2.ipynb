{
 "cells": [
  {
   "cell_type": "markdown",
   "metadata": {},
   "source": [
    "## Preprocessing"
   ]
  },
  {
   "cell_type": "code",
   "execution_count": 1,
   "metadata": {},
   "outputs": [
    {
     "data": {
      "text/html": [
       "<div>\n",
       "<style scoped>\n",
       "    .dataframe tbody tr th:only-of-type {\n",
       "        vertical-align: middle;\n",
       "    }\n",
       "\n",
       "    .dataframe tbody tr th {\n",
       "        vertical-align: top;\n",
       "    }\n",
       "\n",
       "    .dataframe thead th {\n",
       "        text-align: right;\n",
       "    }\n",
       "</style>\n",
       "<table border=\"1\" class=\"dataframe\">\n",
       "  <thead>\n",
       "    <tr style=\"text-align: right;\">\n",
       "      <th></th>\n",
       "      <th>EIN</th>\n",
       "      <th>NAME</th>\n",
       "      <th>APPLICATION_TYPE</th>\n",
       "      <th>AFFILIATION</th>\n",
       "      <th>CLASSIFICATION</th>\n",
       "      <th>USE_CASE</th>\n",
       "      <th>ORGANIZATION</th>\n",
       "      <th>STATUS</th>\n",
       "      <th>INCOME_AMT</th>\n",
       "      <th>SPECIAL_CONSIDERATIONS</th>\n",
       "      <th>ASK_AMT</th>\n",
       "      <th>IS_SUCCESSFUL</th>\n",
       "    </tr>\n",
       "  </thead>\n",
       "  <tbody>\n",
       "    <tr>\n",
       "      <th>0</th>\n",
       "      <td>10520599</td>\n",
       "      <td>BLUE KNIGHTS MOTORCYCLE CLUB</td>\n",
       "      <td>T10</td>\n",
       "      <td>Independent</td>\n",
       "      <td>C1000</td>\n",
       "      <td>ProductDev</td>\n",
       "      <td>Association</td>\n",
       "      <td>1</td>\n",
       "      <td>0</td>\n",
       "      <td>N</td>\n",
       "      <td>5000</td>\n",
       "      <td>1</td>\n",
       "    </tr>\n",
       "    <tr>\n",
       "      <th>1</th>\n",
       "      <td>10531628</td>\n",
       "      <td>AMERICAN CHESAPEAKE CLUB CHARITABLE TR</td>\n",
       "      <td>T3</td>\n",
       "      <td>Independent</td>\n",
       "      <td>C2000</td>\n",
       "      <td>Preservation</td>\n",
       "      <td>Co-operative</td>\n",
       "      <td>1</td>\n",
       "      <td>1-9999</td>\n",
       "      <td>N</td>\n",
       "      <td>108590</td>\n",
       "      <td>1</td>\n",
       "    </tr>\n",
       "    <tr>\n",
       "      <th>2</th>\n",
       "      <td>10547893</td>\n",
       "      <td>ST CLOUD PROFESSIONAL FIREFIGHTERS</td>\n",
       "      <td>T5</td>\n",
       "      <td>CompanySponsored</td>\n",
       "      <td>C3000</td>\n",
       "      <td>ProductDev</td>\n",
       "      <td>Association</td>\n",
       "      <td>1</td>\n",
       "      <td>0</td>\n",
       "      <td>N</td>\n",
       "      <td>5000</td>\n",
       "      <td>0</td>\n",
       "    </tr>\n",
       "    <tr>\n",
       "      <th>3</th>\n",
       "      <td>10553066</td>\n",
       "      <td>SOUTHSIDE ATHLETIC ASSOCIATION</td>\n",
       "      <td>T3</td>\n",
       "      <td>CompanySponsored</td>\n",
       "      <td>C2000</td>\n",
       "      <td>Preservation</td>\n",
       "      <td>Trust</td>\n",
       "      <td>1</td>\n",
       "      <td>10000-24999</td>\n",
       "      <td>N</td>\n",
       "      <td>6692</td>\n",
       "      <td>1</td>\n",
       "    </tr>\n",
       "    <tr>\n",
       "      <th>4</th>\n",
       "      <td>10556103</td>\n",
       "      <td>GENETIC RESEARCH INSTITUTE OF THE DESERT</td>\n",
       "      <td>T3</td>\n",
       "      <td>Independent</td>\n",
       "      <td>C1000</td>\n",
       "      <td>Heathcare</td>\n",
       "      <td>Trust</td>\n",
       "      <td>1</td>\n",
       "      <td>100000-499999</td>\n",
       "      <td>N</td>\n",
       "      <td>142590</td>\n",
       "      <td>1</td>\n",
       "    </tr>\n",
       "  </tbody>\n",
       "</table>\n",
       "</div>"
      ],
      "text/plain": [
       "        EIN                                      NAME APPLICATION_TYPE  \\\n",
       "0  10520599              BLUE KNIGHTS MOTORCYCLE CLUB              T10   \n",
       "1  10531628    AMERICAN CHESAPEAKE CLUB CHARITABLE TR               T3   \n",
       "2  10547893        ST CLOUD PROFESSIONAL FIREFIGHTERS               T5   \n",
       "3  10553066            SOUTHSIDE ATHLETIC ASSOCIATION               T3   \n",
       "4  10556103  GENETIC RESEARCH INSTITUTE OF THE DESERT               T3   \n",
       "\n",
       "        AFFILIATION CLASSIFICATION      USE_CASE  ORGANIZATION  STATUS  \\\n",
       "0       Independent          C1000    ProductDev   Association       1   \n",
       "1       Independent          C2000  Preservation  Co-operative       1   \n",
       "2  CompanySponsored          C3000    ProductDev   Association       1   \n",
       "3  CompanySponsored          C2000  Preservation         Trust       1   \n",
       "4       Independent          C1000     Heathcare         Trust       1   \n",
       "\n",
       "      INCOME_AMT SPECIAL_CONSIDERATIONS  ASK_AMT  IS_SUCCESSFUL  \n",
       "0              0                      N     5000              1  \n",
       "1         1-9999                      N   108590              1  \n",
       "2              0                      N     5000              0  \n",
       "3    10000-24999                      N     6692              1  \n",
       "4  100000-499999                      N   142590              1  "
      ]
     },
     "execution_count": 1,
     "metadata": {},
     "output_type": "execute_result"
    }
   ],
   "source": [
    "# Import our dependencies\n",
    "from sklearn.model_selection import train_test_split\n",
    "from sklearn.preprocessing import StandardScaler\n",
    "import pandas as pd\n",
    "import tensorflow as tf\n",
    "\n",
    "#  Import and read the charity_data.csv.\n",
    "import pandas as pd \n",
    "application_df = pd.read_csv(\"Resources/charity_data.csv\")\n",
    "application_df.head()"
   ]
  },
  {
   "cell_type": "code",
   "execution_count": 2,
   "metadata": {},
   "outputs": [],
   "source": [
    "# Drop the non-beneficial ID columns, 'EIN' and 'NAME'.\n",
    "application_df = application_df.drop(columns=['EIN', 'NAME', 'SPECIAL_CONSIDERATIONS', 'STATUS'])"
   ]
  },
  {
   "cell_type": "code",
   "execution_count": 3,
   "metadata": {},
   "outputs": [
    {
     "data": {
      "text/html": [
       "<div>\n",
       "<style scoped>\n",
       "    .dataframe tbody tr th:only-of-type {\n",
       "        vertical-align: middle;\n",
       "    }\n",
       "\n",
       "    .dataframe tbody tr th {\n",
       "        vertical-align: top;\n",
       "    }\n",
       "\n",
       "    .dataframe thead th {\n",
       "        text-align: right;\n",
       "    }\n",
       "</style>\n",
       "<table border=\"1\" class=\"dataframe\">\n",
       "  <thead>\n",
       "    <tr style=\"text-align: right;\">\n",
       "      <th></th>\n",
       "      <th>APPLICATION_TYPE</th>\n",
       "      <th>AFFILIATION</th>\n",
       "      <th>CLASSIFICATION</th>\n",
       "      <th>USE_CASE</th>\n",
       "      <th>ORGANIZATION</th>\n",
       "      <th>INCOME_AMT</th>\n",
       "      <th>ASK_AMT</th>\n",
       "      <th>IS_SUCCESSFUL</th>\n",
       "    </tr>\n",
       "  </thead>\n",
       "  <tbody>\n",
       "  </tbody>\n",
       "</table>\n",
       "</div>"
      ],
      "text/plain": [
       "Empty DataFrame\n",
       "Columns: [APPLICATION_TYPE, AFFILIATION, CLASSIFICATION, USE_CASE, ORGANIZATION, INCOME_AMT, ASK_AMT, IS_SUCCESSFUL]\n",
       "Index: []"
      ]
     },
     "execution_count": 3,
     "metadata": {},
     "output_type": "execute_result"
    }
   ],
   "source": [
    "#confirm the columsn were removed\n",
    "application_df.head(0)"
   ]
  },
  {
   "cell_type": "code",
   "execution_count": 4,
   "metadata": {},
   "outputs": [
    {
     "data": {
      "text/plain": [
       "APPLICATION_TYPE      17\n",
       "AFFILIATION            6\n",
       "CLASSIFICATION        71\n",
       "USE_CASE               5\n",
       "ORGANIZATION           4\n",
       "INCOME_AMT             9\n",
       "ASK_AMT             8747\n",
       "IS_SUCCESSFUL          2\n",
       "dtype: int64"
      ]
     },
     "execution_count": 4,
     "metadata": {},
     "output_type": "execute_result"
    }
   ],
   "source": [
    "# Determine the number of unique values in each column.\n",
    "application_df.nunique()"
   ]
  },
  {
   "cell_type": "code",
   "execution_count": 5,
   "metadata": {},
   "outputs": [
    {
     "data": {
      "text/plain": [
       "5000        25398\n",
       "10478           3\n",
       "15583           3\n",
       "63981           3\n",
       "6725            3\n",
       "            ...  \n",
       "5371754         1\n",
       "30060           1\n",
       "43091152        1\n",
       "18683           1\n",
       "36500179        1\n",
       "Name: ASK_AMT, Length: 8747, dtype: int64"
      ]
     },
     "execution_count": 5,
     "metadata": {},
     "output_type": "execute_result"
    }
   ],
   "source": [
    "application_df['ASK_AMT'].value_counts()"
   ]
  },
  {
   "cell_type": "code",
   "execution_count": 6,
   "metadata": {},
   "outputs": [],
   "source": [
    "# Assign values counts to a variable to create bins. \n",
    "ammount_counts = application_df['ASK_AMT'].value_counts()\n",
    "# gather all the application types that will be binned into \"Other\"\n",
    "ammount_types_to_replace = list(ammount_counts[ammount_counts<2].index)"
   ]
  },
  {
   "cell_type": "code",
   "execution_count": 7,
   "metadata": {},
   "outputs": [
    {
     "data": {
      "text/plain": [
       "5000     25398\n",
       "Other     8595\n",
       "63981        3\n",
       "15583        3\n",
       "6725         3\n",
       "         ...  \n",
       "40429        2\n",
       "57588        2\n",
       "20537        2\n",
       "34875        2\n",
       "5731         2\n",
       "Name: ASK_AMT, Length: 153, dtype: int64"
      ]
     },
     "execution_count": 7,
     "metadata": {},
     "output_type": "execute_result"
    }
   ],
   "source": [
    "# Replace in dataframe\n",
    "for count in ammount_types_to_replace:\n",
    "    application_df['ASK_AMT'] = application_df['ASK_AMT'].replace(count,\"Other\")\n",
    "\n",
    "# Check to make sure binning was successful\n",
    "application_df['ASK_AMT'].value_counts()"
   ]
  },
  {
   "cell_type": "code",
   "execution_count": 8,
   "metadata": {},
   "outputs": [
    {
     "data": {
      "text/plain": [
       "T3     27037\n",
       "T4      1542\n",
       "T6      1216\n",
       "T5      1173\n",
       "T19     1065\n",
       "T8       737\n",
       "T7       725\n",
       "T10      528\n",
       "T9       156\n",
       "T13       66\n",
       "T12       27\n",
       "T2        16\n",
       "T25        3\n",
       "T14        3\n",
       "T29        2\n",
       "T15        2\n",
       "T17        1\n",
       "Name: APPLICATION_TYPE, dtype: int64"
      ]
     },
     "execution_count": 8,
     "metadata": {},
     "output_type": "execute_result"
    }
   ],
   "source": [
    "# Look at APPLICATION_TYPE value counts for binning\n",
    "application_df['APPLICATION_TYPE'].value_counts()"
   ]
  },
  {
   "cell_type": "code",
   "execution_count": 9,
   "metadata": {},
   "outputs": [
    {
     "data": {
      "text/plain": [
       "['T9', 'T13', 'T12', 'T2', 'T25', 'T14', 'T29', 'T15', 'T17']"
      ]
     },
     "execution_count": 9,
     "metadata": {},
     "output_type": "execute_result"
    }
   ],
   "source": [
    "# Assign values counts to a variable to create bins. \n",
    "application_counts = application_df['APPLICATION_TYPE'].value_counts()\n",
    "# gather all the application types that will be binned into \"Other\"\n",
    "application_types_to_replace = list(application_counts[application_counts<500].index)\n",
    "application_types_to_replace"
   ]
  },
  {
   "cell_type": "code",
   "execution_count": 10,
   "metadata": {},
   "outputs": [
    {
     "data": {
      "text/plain": [
       "T3       27037\n",
       "T4        1542\n",
       "T6        1216\n",
       "T5        1173\n",
       "T19       1065\n",
       "T8         737\n",
       "T7         725\n",
       "T10        528\n",
       "Other      276\n",
       "Name: APPLICATION_TYPE, dtype: int64"
      ]
     },
     "execution_count": 10,
     "metadata": {},
     "output_type": "execute_result"
    }
   ],
   "source": [
    "# Replace in dataframe\n",
    "for app in application_types_to_replace:\n",
    "    application_df['APPLICATION_TYPE'] = application_df['APPLICATION_TYPE'].replace(app,\"Other\")\n",
    "\n",
    "# Check to make sure binning was successful\n",
    "application_df['APPLICATION_TYPE'].value_counts()"
   ]
  },
  {
   "cell_type": "code",
   "execution_count": 11,
   "metadata": {},
   "outputs": [
    {
     "data": {
      "text/plain": [
       "C1000    17326\n",
       "C2000     6074\n",
       "C1200     4837\n",
       "C3000     1918\n",
       "C2100     1883\n",
       "         ...  \n",
       "C4120        1\n",
       "C8210        1\n",
       "C2561        1\n",
       "C4500        1\n",
       "C2150        1\n",
       "Name: CLASSIFICATION, Length: 71, dtype: int64"
      ]
     },
     "execution_count": 11,
     "metadata": {},
     "output_type": "execute_result"
    }
   ],
   "source": [
    "# Look at CLASSIFICATION value counts for binning\n",
    "application_df['CLASSIFICATION'].value_counts()"
   ]
  },
  {
   "cell_type": "code",
   "execution_count": 12,
   "metadata": {},
   "outputs": [
    {
     "data": {
      "text/plain": [
       "C1000    17326\n",
       "C2000     6074\n",
       "C1200     4837\n",
       "C3000     1918\n",
       "C2100     1883\n",
       "C7000      777\n",
       "C1700      287\n",
       "C4000      194\n",
       "C5000      116\n",
       "C1270      114\n",
       "C2700      104\n",
       "C2800       95\n",
       "C7100       75\n",
       "C1300       58\n",
       "C1280       50\n",
       "C1230       36\n",
       "C1400       34\n",
       "C7200       32\n",
       "C2300       32\n",
       "C1240       30\n",
       "C8000       20\n",
       "C7120       18\n",
       "C1500       16\n",
       "C1800       15\n",
       "C6000       15\n",
       "C1250       14\n",
       "C8200       11\n",
       "C1238       10\n",
       "C1278       10\n",
       "C1235        9\n",
       "C1237        9\n",
       "C7210        7\n",
       "C2400        6\n",
       "C1720        6\n",
       "C4100        6\n",
       "C1257        5\n",
       "C1600        5\n",
       "C1260        3\n",
       "C2710        3\n",
       "C0           3\n",
       "C3200        2\n",
       "C1234        2\n",
       "C1246        2\n",
       "C1267        2\n",
       "C1256        2\n",
       "Name: CLASSIFICATION, dtype: int64"
      ]
     },
     "execution_count": 12,
     "metadata": {},
     "output_type": "execute_result"
    }
   ],
   "source": [
    "# You may find it helpful to look at CLASSIFICATION value counts >1\n",
    "application_df['CLASSIFICATION'].value_counts().loc[lambda x : x >1]"
   ]
  },
  {
   "cell_type": "code",
   "execution_count": 13,
   "metadata": {},
   "outputs": [
    {
     "data": {
      "text/plain": [
       "C1000    17326\n",
       "C2000     6074\n",
       "C1200     4837\n",
       "Other     2261\n",
       "C3000     1918\n",
       "C2100     1883\n",
       "Name: CLASSIFICATION, dtype: int64"
      ]
     },
     "execution_count": 13,
     "metadata": {},
     "output_type": "execute_result"
    }
   ],
   "source": [
    "# Choose a cutoff value and create a list of classifications to be replaced\n",
    "# use the variable name `classifications_to_replace`\n",
    "classification_counts = application_df['CLASSIFICATION'].value_counts()\n",
    "classifications_to_replace = list(classification_counts[classification_counts<1000].index)\n",
    "\n",
    "# Replace in dataframe\n",
    "for cls in classifications_to_replace:\n",
    "    application_df['CLASSIFICATION'] = application_df['CLASSIFICATION'].replace(cls,\"Other\")\n",
    "    \n",
    "# Check to make sure binning was successful\n",
    "application_df['CLASSIFICATION'].value_counts()"
   ]
  },
  {
   "cell_type": "code",
   "execution_count": 14,
   "metadata": {},
   "outputs": [
    {
     "data": {
      "text/html": [
       "<div>\n",
       "<style scoped>\n",
       "    .dataframe tbody tr th:only-of-type {\n",
       "        vertical-align: middle;\n",
       "    }\n",
       "\n",
       "    .dataframe tbody tr th {\n",
       "        vertical-align: top;\n",
       "    }\n",
       "\n",
       "    .dataframe thead th {\n",
       "        text-align: right;\n",
       "    }\n",
       "</style>\n",
       "<table border=\"1\" class=\"dataframe\">\n",
       "  <thead>\n",
       "    <tr style=\"text-align: right;\">\n",
       "      <th></th>\n",
       "      <th>IS_SUCCESSFUL</th>\n",
       "      <th>APPLICATION_TYPE_Other</th>\n",
       "      <th>APPLICATION_TYPE_T10</th>\n",
       "      <th>APPLICATION_TYPE_T19</th>\n",
       "      <th>APPLICATION_TYPE_T3</th>\n",
       "      <th>APPLICATION_TYPE_T4</th>\n",
       "      <th>APPLICATION_TYPE_T5</th>\n",
       "      <th>APPLICATION_TYPE_T6</th>\n",
       "      <th>APPLICATION_TYPE_T7</th>\n",
       "      <th>APPLICATION_TYPE_T8</th>\n",
       "      <th>...</th>\n",
       "      <th>ASK_AMT_195661</th>\n",
       "      <th>ASK_AMT_201112</th>\n",
       "      <th>ASK_AMT_206725</th>\n",
       "      <th>ASK_AMT_210432</th>\n",
       "      <th>ASK_AMT_238933</th>\n",
       "      <th>ASK_AMT_240780</th>\n",
       "      <th>ASK_AMT_246851</th>\n",
       "      <th>ASK_AMT_350000</th>\n",
       "      <th>ASK_AMT_1427468</th>\n",
       "      <th>ASK_AMT_Other</th>\n",
       "    </tr>\n",
       "  </thead>\n",
       "  <tbody>\n",
       "    <tr>\n",
       "      <th>0</th>\n",
       "      <td>1</td>\n",
       "      <td>0</td>\n",
       "      <td>1</td>\n",
       "      <td>0</td>\n",
       "      <td>0</td>\n",
       "      <td>0</td>\n",
       "      <td>0</td>\n",
       "      <td>0</td>\n",
       "      <td>0</td>\n",
       "      <td>0</td>\n",
       "      <td>...</td>\n",
       "      <td>0</td>\n",
       "      <td>0</td>\n",
       "      <td>0</td>\n",
       "      <td>0</td>\n",
       "      <td>0</td>\n",
       "      <td>0</td>\n",
       "      <td>0</td>\n",
       "      <td>0</td>\n",
       "      <td>0</td>\n",
       "      <td>0</td>\n",
       "    </tr>\n",
       "    <tr>\n",
       "      <th>1</th>\n",
       "      <td>1</td>\n",
       "      <td>0</td>\n",
       "      <td>0</td>\n",
       "      <td>0</td>\n",
       "      <td>1</td>\n",
       "      <td>0</td>\n",
       "      <td>0</td>\n",
       "      <td>0</td>\n",
       "      <td>0</td>\n",
       "      <td>0</td>\n",
       "      <td>...</td>\n",
       "      <td>0</td>\n",
       "      <td>0</td>\n",
       "      <td>0</td>\n",
       "      <td>0</td>\n",
       "      <td>0</td>\n",
       "      <td>0</td>\n",
       "      <td>0</td>\n",
       "      <td>0</td>\n",
       "      <td>0</td>\n",
       "      <td>1</td>\n",
       "    </tr>\n",
       "    <tr>\n",
       "      <th>2</th>\n",
       "      <td>0</td>\n",
       "      <td>0</td>\n",
       "      <td>0</td>\n",
       "      <td>0</td>\n",
       "      <td>0</td>\n",
       "      <td>0</td>\n",
       "      <td>1</td>\n",
       "      <td>0</td>\n",
       "      <td>0</td>\n",
       "      <td>0</td>\n",
       "      <td>...</td>\n",
       "      <td>0</td>\n",
       "      <td>0</td>\n",
       "      <td>0</td>\n",
       "      <td>0</td>\n",
       "      <td>0</td>\n",
       "      <td>0</td>\n",
       "      <td>0</td>\n",
       "      <td>0</td>\n",
       "      <td>0</td>\n",
       "      <td>0</td>\n",
       "    </tr>\n",
       "    <tr>\n",
       "      <th>3</th>\n",
       "      <td>1</td>\n",
       "      <td>0</td>\n",
       "      <td>0</td>\n",
       "      <td>0</td>\n",
       "      <td>1</td>\n",
       "      <td>0</td>\n",
       "      <td>0</td>\n",
       "      <td>0</td>\n",
       "      <td>0</td>\n",
       "      <td>0</td>\n",
       "      <td>...</td>\n",
       "      <td>0</td>\n",
       "      <td>0</td>\n",
       "      <td>0</td>\n",
       "      <td>0</td>\n",
       "      <td>0</td>\n",
       "      <td>0</td>\n",
       "      <td>0</td>\n",
       "      <td>0</td>\n",
       "      <td>0</td>\n",
       "      <td>1</td>\n",
       "    </tr>\n",
       "    <tr>\n",
       "      <th>4</th>\n",
       "      <td>1</td>\n",
       "      <td>0</td>\n",
       "      <td>0</td>\n",
       "      <td>0</td>\n",
       "      <td>1</td>\n",
       "      <td>0</td>\n",
       "      <td>0</td>\n",
       "      <td>0</td>\n",
       "      <td>0</td>\n",
       "      <td>0</td>\n",
       "      <td>...</td>\n",
       "      <td>0</td>\n",
       "      <td>0</td>\n",
       "      <td>0</td>\n",
       "      <td>0</td>\n",
       "      <td>0</td>\n",
       "      <td>0</td>\n",
       "      <td>0</td>\n",
       "      <td>0</td>\n",
       "      <td>0</td>\n",
       "      <td>1</td>\n",
       "    </tr>\n",
       "  </tbody>\n",
       "</table>\n",
       "<p>5 rows × 193 columns</p>\n",
       "</div>"
      ],
      "text/plain": [
       "   IS_SUCCESSFUL  APPLICATION_TYPE_Other  APPLICATION_TYPE_T10  \\\n",
       "0              1                       0                     1   \n",
       "1              1                       0                     0   \n",
       "2              0                       0                     0   \n",
       "3              1                       0                     0   \n",
       "4              1                       0                     0   \n",
       "\n",
       "   APPLICATION_TYPE_T19  APPLICATION_TYPE_T3  APPLICATION_TYPE_T4  \\\n",
       "0                     0                    0                    0   \n",
       "1                     0                    1                    0   \n",
       "2                     0                    0                    0   \n",
       "3                     0                    1                    0   \n",
       "4                     0                    1                    0   \n",
       "\n",
       "   APPLICATION_TYPE_T5  APPLICATION_TYPE_T6  APPLICATION_TYPE_T7  \\\n",
       "0                    0                    0                    0   \n",
       "1                    0                    0                    0   \n",
       "2                    1                    0                    0   \n",
       "3                    0                    0                    0   \n",
       "4                    0                    0                    0   \n",
       "\n",
       "   APPLICATION_TYPE_T8  ...  ASK_AMT_195661  ASK_AMT_201112  ASK_AMT_206725  \\\n",
       "0                    0  ...               0               0               0   \n",
       "1                    0  ...               0               0               0   \n",
       "2                    0  ...               0               0               0   \n",
       "3                    0  ...               0               0               0   \n",
       "4                    0  ...               0               0               0   \n",
       "\n",
       "   ASK_AMT_210432  ASK_AMT_238933  ASK_AMT_240780  ASK_AMT_246851  \\\n",
       "0               0               0               0               0   \n",
       "1               0               0               0               0   \n",
       "2               0               0               0               0   \n",
       "3               0               0               0               0   \n",
       "4               0               0               0               0   \n",
       "\n",
       "   ASK_AMT_350000  ASK_AMT_1427468  ASK_AMT_Other  \n",
       "0               0                0              0  \n",
       "1               0                0              1  \n",
       "2               0                0              0  \n",
       "3               0                0              1  \n",
       "4               0                0              1  \n",
       "\n",
       "[5 rows x 193 columns]"
      ]
     },
     "execution_count": 14,
     "metadata": {},
     "output_type": "execute_result"
    }
   ],
   "source": [
    "# Convert categorical data to numeric with `pd.get_dummies`\n",
    "application_dummy_df = pd.get_dummies(application_df)\n",
    "application_dummy_df.head()"
   ]
  },
  {
   "cell_type": "code",
   "execution_count": 15,
   "metadata": {},
   "outputs": [
    {
     "name": "stdout",
     "output_type": "stream",
     "text": [
      "(34299, 192) (34299,)\n"
     ]
    }
   ],
   "source": [
    "# Split our preprocessed data into our features and target arrays\n",
    "X = application_dummy_df.drop(\"IS_SUCCESSFUL\", axis=1).values\n",
    "y = application_dummy_df[\"IS_SUCCESSFUL\"].values\n",
    "print(X.shape, y.shape)"
   ]
  },
  {
   "cell_type": "code",
   "execution_count": 16,
   "metadata": {},
   "outputs": [
    {
     "name": "stdout",
     "output_type": "stream",
     "text": [
      "(27439, 192) (27439,) (6860, 192) (6860,)\n"
     ]
    }
   ],
   "source": [
    "# Split the preprocessed data into a training and testing dataset\n",
    "X_train, X_test, y_train, y_test = train_test_split(X, y, test_size = 0.20, random_state=42)\n",
    "\n",
    "print(X_train.shape, y_train.shape, X_test.shape, y_test.shape)"
   ]
  },
  {
   "cell_type": "code",
   "execution_count": 17,
   "metadata": {},
   "outputs": [
    {
     "name": "stdout",
     "output_type": "stream",
     "text": [
      "(27439, 192) (6860, 192)\n"
     ]
    }
   ],
   "source": [
    "# Create a StandardScaler instances\n",
    "scaler = StandardScaler()\n",
    "\n",
    "# Fit the StandardScaler\n",
    "X_scaler = scaler.fit(X_train)\n",
    "\n",
    "# Scale the data\n",
    "X_train_scaled = X_scaler.transform(X_train)\n",
    "X_test_scaled = X_scaler.transform(X_test)\n",
    "\n",
    "print(X_train_scaled.shape, X_test_scaled.shape)"
   ]
  },
  {
   "cell_type": "markdown",
   "metadata": {},
   "source": [
    "## Compile, Train and Evaluate the Model"
   ]
  },
  {
   "cell_type": "code",
   "execution_count": 18,
   "metadata": {},
   "outputs": [
    {
     "name": "stdout",
     "output_type": "stream",
     "text": [
      "Model: \"sequential\"\n",
      "_________________________________________________________________\n",
      " Layer (type)                Output Shape              Param #   \n",
      "=================================================================\n",
      " dense (Dense)               (None, 80)                15440     \n",
      "                                                                 \n",
      " dense_1 (Dense)             (None, 40)                3240      \n",
      "                                                                 \n",
      " dense_2 (Dense)             (None, 20)                820       \n",
      "                                                                 \n",
      " dense_3 (Dense)             (None, 10)                210       \n",
      "                                                                 \n",
      " dense_4 (Dense)             (None, 5)                 55        \n",
      "                                                                 \n",
      " dense_5 (Dense)             (None, 1)                 6         \n",
      "                                                                 \n",
      "=================================================================\n",
      "Total params: 19,771\n",
      "Trainable params: 19,771\n",
      "Non-trainable params: 0\n",
      "_________________________________________________________________\n"
     ]
    }
   ],
   "source": [
    "# Define the model - deep neural net, i.e., the number of input features and hidden nodes for each layer.\n",
    "nn = tf.keras.models.Sequential()\n",
    "\n",
    "# First hidden layer\n",
    "nn.add(tf.keras.layers.Dense(units=80, activation=\"relu\", input_dim=192))\n",
    "# Second hidden layer\n",
    "nn.add(tf.keras.layers.Dense(units=40, activation=\"relu\"))\n",
    "# Third hidden layer\n",
    "nn.add(tf.keras.layers.Dense(units=20, activation=\"relu\"))\n",
    "# Forth hidden layer\n",
    "nn.add(tf.keras.layers.Dense(units=10, activation=\"relu\"))\n",
    "# Fifth hidden layer\n",
    "nn.add(tf.keras.layers.Dense(units=5, activation=\"relu\"))\n",
    "\n",
    "# Output layer\n",
    "nn.add(tf.keras.layers.Dense(units=1, activation=\"sigmoid\"))\n",
    "\n",
    "# Check the structure of the model\n",
    "nn.summary()"
   ]
  },
  {
   "cell_type": "code",
   "execution_count": 19,
   "metadata": {},
   "outputs": [],
   "source": [
    "# Compile the model\n",
    "nn.compile(loss=\"binary_crossentropy\", optimizer=\"adam\", metrics=[\"accuracy\"])"
   ]
  },
  {
   "cell_type": "code",
   "execution_count": 20,
   "metadata": {},
   "outputs": [
    {
     "name": "stdout",
     "output_type": "stream",
     "text": [
      "Epoch 1/80\n",
      "686/686 [==============================] - 2s 2ms/step - loss: 0.5792 - accuracy: 0.7143 - val_loss: 0.5546 - val_accuracy: 0.7362\n",
      "Epoch 2/80\n",
      "686/686 [==============================] - 1s 1ms/step - loss: 0.5545 - accuracy: 0.7285 - val_loss: 0.5529 - val_accuracy: 0.7331\n",
      "Epoch 3/80\n",
      "686/686 [==============================] - 1s 1ms/step - loss: 0.5498 - accuracy: 0.7309 - val_loss: 0.5536 - val_accuracy: 0.7374\n",
      "Epoch 4/80\n",
      "686/686 [==============================] - 1s 1ms/step - loss: 0.5475 - accuracy: 0.7313 - val_loss: 0.5559 - val_accuracy: 0.7358\n",
      "Epoch 5/80\n",
      "686/686 [==============================] - 1s 1ms/step - loss: 0.5470 - accuracy: 0.7323 - val_loss: 0.5548 - val_accuracy: 0.7380\n",
      "Epoch 6/80\n",
      "686/686 [==============================] - 1s 1ms/step - loss: 0.5447 - accuracy: 0.7329 - val_loss: 0.5555 - val_accuracy: 0.7371\n",
      "Epoch 7/80\n",
      "686/686 [==============================] - 1s 1ms/step - loss: 0.5437 - accuracy: 0.7318 - val_loss: 0.5550 - val_accuracy: 0.7352\n",
      "Epoch 8/80\n",
      "686/686 [==============================] - 1s 1ms/step - loss: 0.5431 - accuracy: 0.7350 - val_loss: 0.5560 - val_accuracy: 0.7329\n",
      "Epoch 9/80\n",
      "686/686 [==============================] - 1s 1ms/step - loss: 0.5422 - accuracy: 0.7331 - val_loss: 0.5565 - val_accuracy: 0.7358\n",
      "Epoch 10/80\n",
      "686/686 [==============================] - 1s 1ms/step - loss: 0.5415 - accuracy: 0.7347 - val_loss: 0.5640 - val_accuracy: 0.7296\n",
      "Epoch 11/80\n",
      "686/686 [==============================] - 1s 1ms/step - loss: 0.5414 - accuracy: 0.7334 - val_loss: 0.5623 - val_accuracy: 0.7387\n",
      "Epoch 12/80\n",
      "686/686 [==============================] - 1s 1ms/step - loss: 0.5412 - accuracy: 0.7345 - val_loss: 0.5594 - val_accuracy: 0.7358\n",
      "Epoch 13/80\n",
      "686/686 [==============================] - 1s 1ms/step - loss: 0.5398 - accuracy: 0.7349 - val_loss: 0.5590 - val_accuracy: 0.7371\n",
      "Epoch 14/80\n",
      "686/686 [==============================] - 1s 1ms/step - loss: 0.5398 - accuracy: 0.7344 - val_loss: 0.5668 - val_accuracy: 0.7374\n",
      "Epoch 15/80\n",
      "686/686 [==============================] - 1s 1ms/step - loss: 0.5393 - accuracy: 0.7343 - val_loss: 0.5659 - val_accuracy: 0.7365\n",
      "Epoch 16/80\n",
      "686/686 [==============================] - 1s 1ms/step - loss: 0.5392 - accuracy: 0.7345 - val_loss: 0.5669 - val_accuracy: 0.7367\n",
      "Epoch 17/80\n",
      "686/686 [==============================] - 1s 1ms/step - loss: 0.5385 - accuracy: 0.7360 - val_loss: 0.5662 - val_accuracy: 0.7367\n",
      "Epoch 18/80\n",
      "686/686 [==============================] - 1s 1ms/step - loss: 0.5392 - accuracy: 0.7353 - val_loss: 0.5659 - val_accuracy: 0.7343\n",
      "Epoch 19/80\n",
      "686/686 [==============================] - 1s 1ms/step - loss: 0.5380 - accuracy: 0.7351 - val_loss: 0.5685 - val_accuracy: 0.7352\n",
      "Epoch 20/80\n",
      "686/686 [==============================] - 1s 1ms/step - loss: 0.5376 - accuracy: 0.7362 - val_loss: 0.5649 - val_accuracy: 0.7358\n",
      "Epoch 21/80\n",
      "686/686 [==============================] - 1s 2ms/step - loss: 0.5375 - accuracy: 0.7373 - val_loss: 0.5744 - val_accuracy: 0.7382\n",
      "Epoch 22/80\n",
      "686/686 [==============================] - 1s 1ms/step - loss: 0.5370 - accuracy: 0.7360 - val_loss: 0.5682 - val_accuracy: 0.7371\n",
      "Epoch 23/80\n",
      "686/686 [==============================] - 1s 1ms/step - loss: 0.5369 - accuracy: 0.7360 - val_loss: 0.5673 - val_accuracy: 0.7400\n",
      "Epoch 24/80\n",
      "686/686 [==============================] - 1s 2ms/step - loss: 0.5360 - accuracy: 0.7376 - val_loss: 0.5750 - val_accuracy: 0.7316\n",
      "Epoch 25/80\n",
      "686/686 [==============================] - 1s 2ms/step - loss: 0.5368 - accuracy: 0.7365 - val_loss: 0.5691 - val_accuracy: 0.7356\n",
      "Epoch 26/80\n",
      "686/686 [==============================] - 1s 2ms/step - loss: 0.5367 - accuracy: 0.7369 - val_loss: 0.5748 - val_accuracy: 0.7369\n",
      "Epoch 27/80\n",
      "686/686 [==============================] - 1s 2ms/step - loss: 0.5356 - accuracy: 0.7354 - val_loss: 0.5709 - val_accuracy: 0.7367\n",
      "Epoch 28/80\n",
      "686/686 [==============================] - 1s 1ms/step - loss: 0.5358 - accuracy: 0.7356 - val_loss: 0.5620 - val_accuracy: 0.7367\n",
      "Epoch 29/80\n",
      "686/686 [==============================] - 1s 2ms/step - loss: 0.5362 - accuracy: 0.7370 - val_loss: 0.5672 - val_accuracy: 0.7374\n",
      "Epoch 30/80\n",
      "686/686 [==============================] - 1s 2ms/step - loss: 0.5353 - accuracy: 0.7375 - val_loss: 0.5693 - val_accuracy: 0.7360\n",
      "Epoch 31/80\n",
      "686/686 [==============================] - 1s 1ms/step - loss: 0.5349 - accuracy: 0.7367 - val_loss: 0.5647 - val_accuracy: 0.7362\n",
      "Epoch 32/80\n",
      "686/686 [==============================] - 1s 1ms/step - loss: 0.5351 - accuracy: 0.7369 - val_loss: 0.5597 - val_accuracy: 0.7394\n",
      "Epoch 33/80\n",
      "686/686 [==============================] - 1s 1ms/step - loss: 0.5346 - accuracy: 0.7377 - val_loss: 0.5742 - val_accuracy: 0.7349\n",
      "Epoch 34/80\n",
      "686/686 [==============================] - 1s 1ms/step - loss: 0.5346 - accuracy: 0.7379 - val_loss: 0.5698 - val_accuracy: 0.7371\n",
      "Epoch 35/80\n",
      "686/686 [==============================] - 1s 1ms/step - loss: 0.5341 - accuracy: 0.7377 - val_loss: 0.5707 - val_accuracy: 0.7351\n",
      "Epoch 36/80\n",
      "686/686 [==============================] - 1s 1ms/step - loss: 0.5343 - accuracy: 0.7379 - val_loss: 0.5677 - val_accuracy: 0.7363\n",
      "Epoch 37/80\n",
      "686/686 [==============================] - 1s 2ms/step - loss: 0.5345 - accuracy: 0.7376 - val_loss: 0.5631 - val_accuracy: 0.7376\n",
      "Epoch 38/80\n",
      "686/686 [==============================] - 1s 2ms/step - loss: 0.5340 - accuracy: 0.7379 - val_loss: 0.5763 - val_accuracy: 0.7389\n",
      "Epoch 39/80\n",
      "686/686 [==============================] - 1s 1ms/step - loss: 0.5342 - accuracy: 0.7390 - val_loss: 0.5725 - val_accuracy: 0.7378\n",
      "Epoch 40/80\n",
      "686/686 [==============================] - 1s 1ms/step - loss: 0.5331 - accuracy: 0.7386 - val_loss: 0.5908 - val_accuracy: 0.7387\n",
      "Epoch 41/80\n",
      "686/686 [==============================] - 1s 1ms/step - loss: 0.5336 - accuracy: 0.7387 - val_loss: 0.5903 - val_accuracy: 0.7387\n",
      "Epoch 42/80\n",
      "686/686 [==============================] - 1s 1ms/step - loss: 0.5336 - accuracy: 0.7385 - val_loss: 0.5823 - val_accuracy: 0.7363\n",
      "Epoch 43/80\n",
      "686/686 [==============================] - 1s 1ms/step - loss: 0.5332 - accuracy: 0.7400 - val_loss: 0.5751 - val_accuracy: 0.7372\n",
      "Epoch 44/80\n",
      "686/686 [==============================] - 1s 1ms/step - loss: 0.5332 - accuracy: 0.7390 - val_loss: 0.5828 - val_accuracy: 0.7400\n",
      "Epoch 45/80\n",
      "686/686 [==============================] - 1s 1ms/step - loss: 0.5330 - accuracy: 0.7384 - val_loss: 0.5801 - val_accuracy: 0.7394\n",
      "Epoch 46/80\n",
      "686/686 [==============================] - 1s 1ms/step - loss: 0.5324 - accuracy: 0.7378 - val_loss: 0.5870 - val_accuracy: 0.7327\n",
      "Epoch 47/80\n",
      "686/686 [==============================] - 1s 1ms/step - loss: 0.5327 - accuracy: 0.7375 - val_loss: 0.5782 - val_accuracy: 0.7318\n",
      "Epoch 48/80\n",
      "686/686 [==============================] - 1s 1ms/step - loss: 0.5326 - accuracy: 0.7385 - val_loss: 0.5760 - val_accuracy: 0.7358\n",
      "Epoch 49/80\n",
      "686/686 [==============================] - 1s 1ms/step - loss: 0.5331 - accuracy: 0.7393 - val_loss: 0.5877 - val_accuracy: 0.7391\n",
      "Epoch 50/80\n",
      "686/686 [==============================] - 1s 1ms/step - loss: 0.5323 - accuracy: 0.7379 - val_loss: 0.5937 - val_accuracy: 0.7392\n",
      "Epoch 51/80\n",
      "686/686 [==============================] - 1s 1ms/step - loss: 0.5320 - accuracy: 0.7388 - val_loss: 0.5860 - val_accuracy: 0.7356\n",
      "Epoch 52/80\n",
      "686/686 [==============================] - 1s 2ms/step - loss: 0.5316 - accuracy: 0.7386 - val_loss: 0.5873 - val_accuracy: 0.7382\n",
      "Epoch 53/80\n",
      "686/686 [==============================] - 1s 1ms/step - loss: 0.5316 - accuracy: 0.7395 - val_loss: 0.5816 - val_accuracy: 0.7385\n",
      "Epoch 54/80\n",
      "686/686 [==============================] - 1s 1ms/step - loss: 0.5310 - accuracy: 0.7391 - val_loss: 0.6006 - val_accuracy: 0.7385\n",
      "Epoch 55/80\n",
      "686/686 [==============================] - 1s 1ms/step - loss: 0.5314 - accuracy: 0.7388 - val_loss: 0.6106 - val_accuracy: 0.7400\n",
      "Epoch 56/80\n",
      "686/686 [==============================] - 1s 1ms/step - loss: 0.5322 - accuracy: 0.7396 - val_loss: 0.5970 - val_accuracy: 0.7387\n",
      "Epoch 57/80\n",
      "686/686 [==============================] - 1s 1ms/step - loss: 0.5317 - accuracy: 0.7383 - val_loss: 0.5992 - val_accuracy: 0.7396\n",
      "Epoch 58/80\n",
      "686/686 [==============================] - 1s 1ms/step - loss: 0.5316 - accuracy: 0.7392 - val_loss: 0.5968 - val_accuracy: 0.7385\n",
      "Epoch 59/80\n",
      "686/686 [==============================] - 1s 1ms/step - loss: 0.5313 - accuracy: 0.7392 - val_loss: 0.6024 - val_accuracy: 0.7391\n",
      "Epoch 60/80\n",
      "686/686 [==============================] - 1s 1ms/step - loss: 0.5309 - accuracy: 0.7391 - val_loss: 0.5955 - val_accuracy: 0.7392\n",
      "Epoch 61/80\n",
      "686/686 [==============================] - 1s 1ms/step - loss: 0.5314 - accuracy: 0.7392 - val_loss: 0.5753 - val_accuracy: 0.7402\n",
      "Epoch 62/80\n",
      "686/686 [==============================] - 1s 1ms/step - loss: 0.5309 - accuracy: 0.7396 - val_loss: 0.5812 - val_accuracy: 0.7371\n",
      "Epoch 63/80\n",
      "686/686 [==============================] - 1s 1ms/step - loss: 0.5304 - accuracy: 0.7392 - val_loss: 0.6027 - val_accuracy: 0.7389\n",
      "Epoch 64/80\n",
      "686/686 [==============================] - 1s 1ms/step - loss: 0.5302 - accuracy: 0.7411 - val_loss: 0.6075 - val_accuracy: 0.7380\n",
      "Epoch 65/80\n",
      "686/686 [==============================] - 1s 1ms/step - loss: 0.5314 - accuracy: 0.7392 - val_loss: 0.6103 - val_accuracy: 0.7383\n",
      "Epoch 66/80\n",
      "686/686 [==============================] - 1s 2ms/step - loss: 0.5310 - accuracy: 0.7386 - val_loss: 0.5935 - val_accuracy: 0.7374\n",
      "Epoch 67/80\n",
      "686/686 [==============================] - 1s 1ms/step - loss: 0.5302 - accuracy: 0.7397 - val_loss: 0.6130 - val_accuracy: 0.7367\n",
      "Epoch 68/80\n",
      "686/686 [==============================] - 1s 1ms/step - loss: 0.5298 - accuracy: 0.7393 - val_loss: 0.6042 - val_accuracy: 0.7374\n",
      "Epoch 69/80\n",
      "686/686 [==============================] - 1s 1ms/step - loss: 0.5296 - accuracy: 0.7404 - val_loss: 0.6007 - val_accuracy: 0.7349\n",
      "Epoch 70/80\n",
      "686/686 [==============================] - 1s 2ms/step - loss: 0.5302 - accuracy: 0.7386 - val_loss: 0.6090 - val_accuracy: 0.7374\n",
      "Epoch 71/80\n",
      "686/686 [==============================] - 1s 1ms/step - loss: 0.5302 - accuracy: 0.7388 - val_loss: 0.5826 - val_accuracy: 0.7371\n",
      "Epoch 72/80\n",
      "686/686 [==============================] - 1s 2ms/step - loss: 0.5296 - accuracy: 0.7396 - val_loss: 0.6204 - val_accuracy: 0.7363\n",
      "Epoch 73/80\n",
      "686/686 [==============================] - 1s 1ms/step - loss: 0.5294 - accuracy: 0.7393 - val_loss: 0.6305 - val_accuracy: 0.7398\n",
      "Epoch 74/80\n",
      "686/686 [==============================] - 1s 1ms/step - loss: 0.5301 - accuracy: 0.7395 - val_loss: 0.6110 - val_accuracy: 0.7380\n",
      "Epoch 75/80\n",
      "686/686 [==============================] - 1s 1ms/step - loss: 0.5299 - accuracy: 0.7399 - val_loss: 0.6213 - val_accuracy: 0.7374\n",
      "Epoch 76/80\n",
      "686/686 [==============================] - 1s 1ms/step - loss: 0.5293 - accuracy: 0.7403 - val_loss: 0.6052 - val_accuracy: 0.7392\n",
      "Epoch 77/80\n",
      "686/686 [==============================] - 1s 1ms/step - loss: 0.5287 - accuracy: 0.7406 - val_loss: 0.6244 - val_accuracy: 0.7394\n",
      "Epoch 78/80\n",
      "686/686 [==============================] - 1s 2ms/step - loss: 0.5301 - accuracy: 0.7390 - val_loss: 0.6032 - val_accuracy: 0.7341\n",
      "Epoch 79/80\n",
      "686/686 [==============================] - 1s 2ms/step - loss: 0.5291 - accuracy: 0.7389 - val_loss: 0.6211 - val_accuracy: 0.7372\n",
      "Epoch 80/80\n",
      "686/686 [==============================] - 1s 1ms/step - loss: 0.5289 - accuracy: 0.7394 - val_loss: 0.6132 - val_accuracy: 0.7380\n"
     ]
    }
   ],
   "source": [
    "# Train the model\n",
    "fit_model = nn.fit(X_train_scaled, y_train, validation_split=0.20, epochs=80)"
   ]
  },
  {
   "cell_type": "code",
   "execution_count": 21,
   "metadata": {},
   "outputs": [
    {
     "name": "stdout",
     "output_type": "stream",
     "text": [
      "215/215 - 0s - loss: 0.7091 - accuracy: 0.7211 - 180ms/epoch - 836us/step\n",
      "Loss: 0.7090772390365601, Accuracy: 0.7211370468139648\n"
     ]
    }
   ],
   "source": [
    "# Evaluate the model using the test data\n",
    "model_loss, model_accuracy = nn.evaluate(X_test_scaled,y_test,verbose=2)\n",
    "print(f\"Loss: {model_loss}, Accuracy: {model_accuracy}\")"
   ]
  },
  {
   "cell_type": "code",
   "execution_count": 22,
   "metadata": {},
   "outputs": [
    {
     "data": {
      "text/plain": [
       "<AxesSubplot:>"
      ]
     },
     "execution_count": 22,
     "metadata": {},
     "output_type": "execute_result"
    },
    {
     "data": {
      "image/png": "[encoded data removed]",
      "text/plain": [
       "<Figure size 640x480 with 1 Axes>"
      ]
     },
     "metadata": {},
     "output_type": "display_data"
    }
   ],
   "source": [
    "# Create a DataFrame containing training history\n",
    "history_df = pd.DataFrame(fit_model.history, index=range(1,len(fit_model.history[\"loss\"])+1))\n",
    "\n",
    "# Plot the accuracy\n",
    "history_df.plot(y=\"accuracy\")"
   ]
  },
  {
   "attachments": {},
   "cell_type": "markdown",
   "metadata": {},
   "source": [
    "Putting ASK_AMT (Ask Ammount) bins with values ask below 1 and assigning it to 'Other', and adding additional hidden layers performed the same as Attempt 1. Next I will attempt to instead add the Name of the organization back to see if that additional feature will improve the model."
   ]
  }
 ],
 "metadata": {
  "kernelspec": {
   "display_name": "PythonML",
   "language": "python",
   "name": "python3"
  },
  "language_info": {
   "codemirror_mode": {
    "name": "ipython",
    "version": 3
   },
   "file_extension": ".py",
   "mimetype": "text/x-python",
   "name": "python",
   "nbconvert_exporter": "python",
   "pygments_lexer": "ipython3",
   "version": "3.7.7"
  },
  "vscode": {
   "interpreter": {
    "hash": "16fd6db726b79cbf3b87d528332921b610d7d3aef1e46f3518c7f18f49654b4f"
   }
  }
 },
 "nbformat": 4,
 "nbformat_minor": 4
}

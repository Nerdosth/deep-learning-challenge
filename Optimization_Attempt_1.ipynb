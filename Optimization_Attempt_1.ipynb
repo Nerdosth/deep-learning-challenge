{
 "cells": [
  {
   "cell_type": "markdown",
   "metadata": {},
   "source": [
    "## Preprocessing"
   ]
  },
  {
   "cell_type": "code",
   "execution_count": 1,
   "metadata": {},
   "outputs": [],
   "source": [
    "# Import our dependencies\n",
    "from sklearn.model_selection import train_test_split\n",
    "from sklearn.preprocessing import StandardScaler\n",
    "import pandas as pd\n",
    "import tensorflow as tf\n",
    "\n",
    "#  Import and read the charity_data.csv.\n",
    "import pandas as pd \n",
    "application_df = pd.read_csv(\"Resources/charity_data.csv\")\n",
    "# Drop the non-beneficial ID columns, 'EIN' and 'NAME'.\n",
    "application_df = application_df.drop(columns=['EIN', 'NAME'])"
   ]
  },
  {
   "cell_type": "code",
   "execution_count": 2,
   "metadata": {},
   "outputs": [],
   "source": [
    "# Choose a cutoff value and create a list of application types to be replaced\n",
    "# Assign values counts to a variable to create bins. \n",
    "application_counts = application_df['APPLICATION_TYPE'].value_counts()\n",
    "# gather all the application types that will be binned into \"Other\"\n",
    "application_types_to_replace = list(application_counts[application_counts<500].index)\n",
    "\n",
    "# Replace in dataframe\n",
    "for app in application_types_to_replace:\n",
    "    application_df['APPLICATION_TYPE'] = application_df['APPLICATION_TYPE'].replace(app,\"Other\")\n",
    "\n",
    "# Choose a cutoff value and create a list of classifications to be replaced\n",
    "# use the variable name `classifications_to_replace`\n",
    "classification_counts = application_df['CLASSIFICATION'].value_counts()\n",
    "classifications_to_replace = list(classification_counts[classification_counts<1000].index)\n",
    "\n",
    "# Replace in dataframe\n",
    "for cls in classifications_to_replace:\n",
    "    application_df['CLASSIFICATION'] = application_df['CLASSIFICATION'].replace(cls,\"Other\")\n"
   ]
  },
  {
   "cell_type": "code",
   "execution_count": 3,
   "metadata": {},
   "outputs": [],
   "source": [
    "# Convert categorical data to numeric with `pd.get_dummies`\n",
    "application_dummy_df = pd.get_dummies(application_df)"
   ]
  },
  {
   "cell_type": "code",
   "execution_count": 4,
   "metadata": {},
   "outputs": [],
   "source": [
    "# Split our preprocessed data into our features and target arrays\n",
    "X = application_dummy_df.drop(\"IS_SUCCESSFUL\", axis=1).values\n",
    "y = application_dummy_df[\"IS_SUCCESSFUL\"].values\n",
    "\n",
    "#split test and train data.\n",
    "X_train, X_test, y_train, y_test = train_test_split(X, y, test_size = 0.20, shuffle=True, random_state=42)\n",
    "\n",
    "# Create a StandardScaler instances\n",
    "scaler = StandardScaler()\n",
    "\n",
    "# Fit the StandardScaler\n",
    "X_scaler = scaler.fit(X_train)\n",
    "\n",
    "# Scale the data\n",
    "X_train_scaled = X_scaler.transform(X_train)\n",
    "X_test_scaled = X_scaler.transform(X_test)\n"
   ]
  },
  {
   "cell_type": "markdown",
   "metadata": {},
   "source": [
    "## Compile, Train and Evaluate the Model"
   ]
  },
  {
   "cell_type": "code",
   "execution_count": 5,
   "metadata": {},
   "outputs": [
    {
     "name": "stdout",
     "output_type": "stream",
     "text": [
      "Model: \"sequential\"\n",
      "_________________________________________________________________\n",
      " Layer (type)                Output Shape              Param #   \n",
      "=================================================================\n",
      " dense (Dense)               (None, 80)                3520      \n",
      "                                                                 \n",
      " dense_1 (Dense)             (None, 30)                2430      \n",
      "                                                                 \n",
      " dense_2 (Dense)             (None, 10)                310       \n",
      "                                                                 \n",
      " dense_3 (Dense)             (None, 1)                 11        \n",
      "                                                                 \n",
      "=================================================================\n",
      "Total params: 6,271\n",
      "Trainable params: 6,271\n",
      "Non-trainable params: 0\n",
      "_________________________________________________________________\n"
     ]
    }
   ],
   "source": [
    "# Define the model - deep neural net, i.e., the number of input features and hidden nodes for each layer.\n",
    "nn = tf.keras.models.Sequential()\n",
    "\n",
    "# First hidden layer\n",
    "nn.add(tf.keras.layers.Dense(units=80, activation=\"relu\", input_dim=43))\n",
    "\n",
    "# Second hidden layer\n",
    "nn.add(tf.keras.layers.Dense(units=30, activation=\"relu\", input_dim=43))\n",
    "\n",
    "# third hidden layer\n",
    "nn.add(tf.keras.layers.Dense(units=10, activation=\"relu\", input_dim=43))\n",
    "\n",
    "# Output layer\n",
    "nn.add(tf.keras.layers.Dense(units=1, activation=\"sigmoid\"))\n",
    "\n",
    "# Check the structure of the model\n",
    "nn.summary()"
   ]
  },
  {
   "cell_type": "code",
   "execution_count": 6,
   "metadata": {},
   "outputs": [
    {
     "name": "stdout",
     "output_type": "stream",
     "text": [
      "Epoch 1/80\n",
      "858/858 [==============================] - 2s 1ms/step - loss: 0.5684 - accuracy: 0.7209\n",
      "Epoch 2/80\n",
      "858/858 [==============================] - 1s 1ms/step - loss: 0.5534 - accuracy: 0.7306\n",
      "Epoch 3/80\n",
      "858/858 [==============================] - 1s 1ms/step - loss: 0.5509 - accuracy: 0.7317\n",
      "Epoch 4/80\n",
      "858/858 [==============================] - 1s 1ms/step - loss: 0.5492 - accuracy: 0.7316\n",
      "Epoch 5/80\n",
      "858/858 [==============================] - 1s 1ms/step - loss: 0.5480 - accuracy: 0.7314\n",
      "Epoch 6/80\n",
      "858/858 [==============================] - 1s 986us/step - loss: 0.5471 - accuracy: 0.7312\n",
      "Epoch 7/80\n",
      "858/858 [==============================] - 1s 1ms/step - loss: 0.5461 - accuracy: 0.7334\n",
      "Epoch 8/80\n",
      "858/858 [==============================] - 1s 1ms/step - loss: 0.5456 - accuracy: 0.7338\n",
      "Epoch 9/80\n",
      "858/858 [==============================] - 1s 1ms/step - loss: 0.5454 - accuracy: 0.7344\n",
      "Epoch 10/80\n",
      "858/858 [==============================] - 1s 985us/step - loss: 0.5448 - accuracy: 0.7329\n",
      "Epoch 11/80\n",
      "858/858 [==============================] - 1s 998us/step - loss: 0.5440 - accuracy: 0.7341\n",
      "Epoch 12/80\n",
      "858/858 [==============================] - 1s 1ms/step - loss: 0.5437 - accuracy: 0.7352\n",
      "Epoch 13/80\n",
      "858/858 [==============================] - 1s 1ms/step - loss: 0.5435 - accuracy: 0.7360\n",
      "Epoch 14/80\n",
      "858/858 [==============================] - 1s 1ms/step - loss: 0.5430 - accuracy: 0.7358\n",
      "Epoch 15/80\n",
      "858/858 [==============================] - 1s 1ms/step - loss: 0.5424 - accuracy: 0.7342\n",
      "Epoch 16/80\n",
      "858/858 [==============================] - 1s 1ms/step - loss: 0.5421 - accuracy: 0.7345\n",
      "Epoch 17/80\n",
      "858/858 [==============================] - 1s 1ms/step - loss: 0.5421 - accuracy: 0.7362\n",
      "Epoch 18/80\n",
      "858/858 [==============================] - 1s 1ms/step - loss: 0.5418 - accuracy: 0.7364\n",
      "Epoch 19/80\n",
      "858/858 [==============================] - 1s 1ms/step - loss: 0.5413 - accuracy: 0.7369\n",
      "Epoch 20/80\n",
      "858/858 [==============================] - 1s 980us/step - loss: 0.5412 - accuracy: 0.7356\n",
      "Epoch 21/80\n",
      "858/858 [==============================] - 1s 1ms/step - loss: 0.5412 - accuracy: 0.7368\n",
      "Epoch 22/80\n",
      "858/858 [==============================] - 1s 1ms/step - loss: 0.5406 - accuracy: 0.7377\n",
      "Epoch 23/80\n",
      "858/858 [==============================] - 1s 1ms/step - loss: 0.5407 - accuracy: 0.7366\n",
      "Epoch 24/80\n",
      "858/858 [==============================] - 1s 1ms/step - loss: 0.5405 - accuracy: 0.7363\n",
      "Epoch 25/80\n",
      "858/858 [==============================] - 1s 1ms/step - loss: 0.5404 - accuracy: 0.7358\n",
      "Epoch 26/80\n",
      "858/858 [==============================] - 1s 1ms/step - loss: 0.5398 - accuracy: 0.7371\n",
      "Epoch 27/80\n",
      "858/858 [==============================] - 1s 1ms/step - loss: 0.5398 - accuracy: 0.7373\n",
      "Epoch 28/80\n",
      "858/858 [==============================] - 1s 993us/step - loss: 0.5397 - accuracy: 0.7379\n",
      "Epoch 29/80\n",
      "858/858 [==============================] - 1s 1ms/step - loss: 0.5395 - accuracy: 0.7375\n",
      "Epoch 30/80\n",
      "858/858 [==============================] - 1s 1ms/step - loss: 0.5395 - accuracy: 0.7379\n",
      "Epoch 31/80\n",
      "858/858 [==============================] - 1s 1ms/step - loss: 0.5388 - accuracy: 0.7376\n",
      "Epoch 32/80\n",
      "858/858 [==============================] - 1s 1ms/step - loss: 0.5389 - accuracy: 0.7382\n",
      "Epoch 33/80\n",
      "858/858 [==============================] - 1s 1ms/step - loss: 0.5389 - accuracy: 0.7376\n",
      "Epoch 34/80\n",
      "858/858 [==============================] - 1s 1ms/step - loss: 0.5388 - accuracy: 0.7379\n",
      "Epoch 35/80\n",
      "858/858 [==============================] - 1s 1ms/step - loss: 0.5389 - accuracy: 0.7373\n",
      "Epoch 36/80\n",
      "858/858 [==============================] - 1s 1ms/step - loss: 0.5386 - accuracy: 0.7382\n",
      "Epoch 37/80\n",
      "858/858 [==============================] - 1s 1ms/step - loss: 0.5384 - accuracy: 0.7376\n",
      "Epoch 38/80\n",
      "858/858 [==============================] - 1s 1ms/step - loss: 0.5384 - accuracy: 0.7384\n",
      "Epoch 39/80\n",
      "858/858 [==============================] - 1s 1ms/step - loss: 0.5385 - accuracy: 0.7387\n",
      "Epoch 40/80\n",
      "858/858 [==============================] - 1s 1ms/step - loss: 0.5381 - accuracy: 0.7388\n",
      "Epoch 41/80\n",
      "858/858 [==============================] - 1s 1ms/step - loss: 0.5381 - accuracy: 0.7380\n",
      "Epoch 42/80\n",
      "858/858 [==============================] - 1s 1ms/step - loss: 0.5379 - accuracy: 0.7384\n",
      "Epoch 43/80\n",
      "858/858 [==============================] - 1s 1ms/step - loss: 0.5379 - accuracy: 0.7384\n",
      "Epoch 44/80\n",
      "858/858 [==============================] - 1s 1ms/step - loss: 0.5376 - accuracy: 0.7381\n",
      "Epoch 45/80\n",
      "858/858 [==============================] - 1s 1ms/step - loss: 0.5375 - accuracy: 0.7383\n",
      "Epoch 46/80\n",
      "858/858 [==============================] - 1s 1ms/step - loss: 0.5373 - accuracy: 0.7383\n",
      "Epoch 47/80\n",
      "858/858 [==============================] - 1s 1ms/step - loss: 0.5374 - accuracy: 0.7383\n",
      "Epoch 48/80\n",
      "858/858 [==============================] - 1s 1ms/step - loss: 0.5373 - accuracy: 0.7383\n",
      "Epoch 49/80\n",
      "858/858 [==============================] - 1s 1ms/step - loss: 0.5373 - accuracy: 0.7388\n",
      "Epoch 50/80\n",
      "858/858 [==============================] - 1s 1ms/step - loss: 0.5373 - accuracy: 0.7393\n",
      "Epoch 51/80\n",
      "858/858 [==============================] - 1s 1ms/step - loss: 0.5368 - accuracy: 0.7395\n",
      "Epoch 52/80\n",
      "858/858 [==============================] - 1s 1ms/step - loss: 0.5369 - accuracy: 0.7387\n",
      "Epoch 53/80\n",
      "858/858 [==============================] - 1s 1ms/step - loss: 0.5371 - accuracy: 0.7400\n",
      "Epoch 54/80\n",
      "858/858 [==============================] - 1s 1ms/step - loss: 0.5365 - accuracy: 0.7392\n",
      "Epoch 55/80\n",
      "858/858 [==============================] - 1s 1ms/step - loss: 0.5366 - accuracy: 0.7384\n",
      "Epoch 56/80\n",
      "858/858 [==============================] - 1s 1ms/step - loss: 0.5362 - accuracy: 0.7386\n",
      "Epoch 57/80\n",
      "858/858 [==============================] - 1s 1ms/step - loss: 0.5361 - accuracy: 0.7385\n",
      "Epoch 58/80\n",
      "858/858 [==============================] - 1s 1ms/step - loss: 0.5363 - accuracy: 0.7386\n",
      "Epoch 59/80\n",
      "858/858 [==============================] - 1s 1ms/step - loss: 0.5363 - accuracy: 0.7393\n",
      "Epoch 60/80\n",
      "858/858 [==============================] - 1s 1ms/step - loss: 0.5361 - accuracy: 0.7387\n",
      "Epoch 61/80\n",
      "858/858 [==============================] - 1s 1ms/step - loss: 0.5359 - accuracy: 0.7399\n",
      "Epoch 62/80\n",
      "858/858 [==============================] - 1s 1ms/step - loss: 0.5362 - accuracy: 0.7393\n",
      "Epoch 63/80\n",
      "858/858 [==============================] - 1s 1ms/step - loss: 0.5362 - accuracy: 0.7393\n",
      "Epoch 64/80\n",
      "858/858 [==============================] - 1s 1ms/step - loss: 0.5362 - accuracy: 0.7389\n",
      "Epoch 65/80\n",
      "858/858 [==============================] - 1s 1ms/step - loss: 0.5356 - accuracy: 0.7396\n",
      "Epoch 66/80\n",
      "858/858 [==============================] - 1s 1ms/step - loss: 0.5360 - accuracy: 0.7393\n",
      "Epoch 67/80\n",
      "858/858 [==============================] - 1s 1ms/step - loss: 0.5359 - accuracy: 0.7400\n",
      "Epoch 68/80\n",
      "858/858 [==============================] - 1s 1ms/step - loss: 0.5356 - accuracy: 0.7411\n",
      "Epoch 69/80\n",
      "858/858 [==============================] - 1s 1ms/step - loss: 0.5352 - accuracy: 0.7403\n",
      "Epoch 70/80\n",
      "858/858 [==============================] - 1s 1ms/step - loss: 0.5352 - accuracy: 0.7398\n",
      "Epoch 71/80\n",
      "858/858 [==============================] - 1s 1ms/step - loss: 0.5352 - accuracy: 0.7395\n",
      "Epoch 72/80\n",
      "858/858 [==============================] - 1s 1ms/step - loss: 0.5355 - accuracy: 0.7402\n",
      "Epoch 73/80\n",
      "858/858 [==============================] - 1s 1ms/step - loss: 0.5354 - accuracy: 0.7401\n",
      "Epoch 74/80\n",
      "858/858 [==============================] - 1s 1ms/step - loss: 0.5353 - accuracy: 0.7399\n",
      "Epoch 75/80\n",
      "858/858 [==============================] - 1s 1ms/step - loss: 0.5348 - accuracy: 0.7392\n",
      "Epoch 76/80\n",
      "858/858 [==============================] - 1s 1ms/step - loss: 0.5351 - accuracy: 0.7403\n",
      "Epoch 77/80\n",
      "858/858 [==============================] - 1s 1ms/step - loss: 0.5351 - accuracy: 0.7396\n",
      "Epoch 78/80\n",
      "858/858 [==============================] - 1s 1ms/step - loss: 0.5346 - accuracy: 0.7403\n",
      "Epoch 79/80\n",
      "858/858 [==============================] - 1s 1ms/step - loss: 0.5348 - accuracy: 0.7397\n",
      "Epoch 80/80\n",
      "858/858 [==============================] - 1s 1ms/step - loss: 0.5352 - accuracy: 0.7402\n"
     ]
    }
   ],
   "source": [
    "# Compile the model\n",
    "nn.compile(loss=\"binary_crossentropy\", optimizer=\"adam\", metrics=[\"accuracy\"])\n",
    "\n",
    "# Train the model - Adding a validation split to see if it will improve the model. \n",
    "fit_model = nn.fit(X_train_scaled, y_train, epochs=80)"
   ]
  },
  {
   "cell_type": "code",
   "execution_count": 7,
   "metadata": {},
   "outputs": [
    {
     "name": "stdout",
     "output_type": "stream",
     "text": [
      "215/215 - 0s - loss: 0.5647 - accuracy: 0.7248 - 289ms/epoch - 1ms/step\n",
      "Loss: 0.5646963119506836, Accuracy: 0.724781334400177\n"
     ]
    }
   ],
   "source": [
    "# Evaluate the model using the test data\n",
    "model_loss, model_accuracy = nn.evaluate(X_test_scaled,y_test,verbose=2)\n",
    "print(f\"Loss: {model_loss}, Accuracy: {model_accuracy}\")"
   ]
  },
  {
   "cell_type": "code",
   "execution_count": 8,
   "metadata": {},
   "outputs": [
    {
     "data": {
      "image/png": "[encoded data removed]",
      "text/plain": [
       "<Figure size 640x480 with 1 Axes>"
      ]
     },
     "metadata": {},
     "output_type": "display_data"
    }
   ],
   "source": [
    "# Create a DataFrame containing training history\n",
    "history_df = pd.DataFrame(fit_model.history, index=range(1,len(fit_model.history[\"loss\"])+1))\n",
    "\n",
    "# Plot the accuracy\n",
    "history_df.plot(y=\"accuracy\");"
   ]
  },
  {
   "attachments": {},
   "cell_type": "markdown",
   "metadata": {},
   "source": [
    "Second Attempt I shuffled the test data and added an additional hidden keras layer.  This did not improve the model. Next I will attemp to add the Name of the organization back to see if that additional feature will improve the model. "
   ]
  }
 ],
 "metadata": {
  "kernelspec": {
   "display_name": "PythonML",
   "language": "python",
   "name": "python3"
  },
  "language_info": {
   "codemirror_mode": {
    "name": "ipython",
    "version": 3
   },
   "file_extension": ".py",
   "mimetype": "text/x-python",
   "name": "python",
   "nbconvert_exporter": "python",
   "pygments_lexer": "ipython3",
   "version": "3.7.7"
  },
  "vscode": {
   "interpreter": {
    "hash": "16fd6db726b79cbf3b87d528332921b610d7d3aef1e46f3518c7f18f49654b4f"
   }
  }
 },
 "nbformat": 4,
 "nbformat_minor": 4
}

{
 "cells": [
  {
   "cell_type": "markdown",
   "metadata": {},
   "source": [
    "## Preprocessing"
   ]
  },
  {
   "cell_type": "code",
   "execution_count": 37,
   "metadata": {},
   "outputs": [
    {
     "data": {
      "text/html": [
       "<div>\n",
       "<style scoped>\n",
       "    .dataframe tbody tr th:only-of-type {\n",
       "        vertical-align: middle;\n",
       "    }\n",
       "\n",
       "    .dataframe tbody tr th {\n",
       "        vertical-align: top;\n",
       "    }\n",
       "\n",
       "    .dataframe thead th {\n",
       "        text-align: right;\n",
       "    }\n",
       "</style>\n",
       "<table border=\"1\" class=\"dataframe\">\n",
       "  <thead>\n",
       "    <tr style=\"text-align: right;\">\n",
       "      <th></th>\n",
       "      <th>EIN</th>\n",
       "      <th>NAME</th>\n",
       "      <th>APPLICATION_TYPE</th>\n",
       "      <th>AFFILIATION</th>\n",
       "      <th>CLASSIFICATION</th>\n",
       "      <th>USE_CASE</th>\n",
       "      <th>ORGANIZATION</th>\n",
       "      <th>STATUS</th>\n",
       "      <th>INCOME_AMT</th>\n",
       "      <th>SPECIAL_CONSIDERATIONS</th>\n",
       "      <th>ASK_AMT</th>\n",
       "      <th>IS_SUCCESSFUL</th>\n",
       "    </tr>\n",
       "  </thead>\n",
       "  <tbody>\n",
       "    <tr>\n",
       "      <th>0</th>\n",
       "      <td>10520599</td>\n",
       "      <td>BLUE KNIGHTS MOTORCYCLE CLUB</td>\n",
       "      <td>T10</td>\n",
       "      <td>Independent</td>\n",
       "      <td>C1000</td>\n",
       "      <td>ProductDev</td>\n",
       "      <td>Association</td>\n",
       "      <td>1</td>\n",
       "      <td>0</td>\n",
       "      <td>N</td>\n",
       "      <td>5000</td>\n",
       "      <td>1</td>\n",
       "    </tr>\n",
       "    <tr>\n",
       "      <th>1</th>\n",
       "      <td>10531628</td>\n",
       "      <td>AMERICAN CHESAPEAKE CLUB CHARITABLE TR</td>\n",
       "      <td>T3</td>\n",
       "      <td>Independent</td>\n",
       "      <td>C2000</td>\n",
       "      <td>Preservation</td>\n",
       "      <td>Co-operative</td>\n",
       "      <td>1</td>\n",
       "      <td>1-9999</td>\n",
       "      <td>N</td>\n",
       "      <td>108590</td>\n",
       "      <td>1</td>\n",
       "    </tr>\n",
       "    <tr>\n",
       "      <th>2</th>\n",
       "      <td>10547893</td>\n",
       "      <td>ST CLOUD PROFESSIONAL FIREFIGHTERS</td>\n",
       "      <td>T5</td>\n",
       "      <td>CompanySponsored</td>\n",
       "      <td>C3000</td>\n",
       "      <td>ProductDev</td>\n",
       "      <td>Association</td>\n",
       "      <td>1</td>\n",
       "      <td>0</td>\n",
       "      <td>N</td>\n",
       "      <td>5000</td>\n",
       "      <td>0</td>\n",
       "    </tr>\n",
       "    <tr>\n",
       "      <th>3</th>\n",
       "      <td>10553066</td>\n",
       "      <td>SOUTHSIDE ATHLETIC ASSOCIATION</td>\n",
       "      <td>T3</td>\n",
       "      <td>CompanySponsored</td>\n",
       "      <td>C2000</td>\n",
       "      <td>Preservation</td>\n",
       "      <td>Trust</td>\n",
       "      <td>1</td>\n",
       "      <td>10000-24999</td>\n",
       "      <td>N</td>\n",
       "      <td>6692</td>\n",
       "      <td>1</td>\n",
       "    </tr>\n",
       "    <tr>\n",
       "      <th>4</th>\n",
       "      <td>10556103</td>\n",
       "      <td>GENETIC RESEARCH INSTITUTE OF THE DESERT</td>\n",
       "      <td>T3</td>\n",
       "      <td>Independent</td>\n",
       "      <td>C1000</td>\n",
       "      <td>Heathcare</td>\n",
       "      <td>Trust</td>\n",
       "      <td>1</td>\n",
       "      <td>100000-499999</td>\n",
       "      <td>N</td>\n",
       "      <td>142590</td>\n",
       "      <td>1</td>\n",
       "    </tr>\n",
       "  </tbody>\n",
       "</table>\n",
       "</div>"
      ],
      "text/plain": [
       "        EIN                                      NAME APPLICATION_TYPE  \\\n",
       "0  10520599              BLUE KNIGHTS MOTORCYCLE CLUB              T10   \n",
       "1  10531628    AMERICAN CHESAPEAKE CLUB CHARITABLE TR               T3   \n",
       "2  10547893        ST CLOUD PROFESSIONAL FIREFIGHTERS               T5   \n",
       "3  10553066            SOUTHSIDE ATHLETIC ASSOCIATION               T3   \n",
       "4  10556103  GENETIC RESEARCH INSTITUTE OF THE DESERT               T3   \n",
       "\n",
       "        AFFILIATION CLASSIFICATION      USE_CASE  ORGANIZATION  STATUS  \\\n",
       "0       Independent          C1000    ProductDev   Association       1   \n",
       "1       Independent          C2000  Preservation  Co-operative       1   \n",
       "2  CompanySponsored          C3000    ProductDev   Association       1   \n",
       "3  CompanySponsored          C2000  Preservation         Trust       1   \n",
       "4       Independent          C1000     Heathcare         Trust       1   \n",
       "\n",
       "      INCOME_AMT SPECIAL_CONSIDERATIONS  ASK_AMT  IS_SUCCESSFUL  \n",
       "0              0                      N     5000              1  \n",
       "1         1-9999                      N   108590              1  \n",
       "2              0                      N     5000              0  \n",
       "3    10000-24999                      N     6692              1  \n",
       "4  100000-499999                      N   142590              1  "
      ]
     },
     "execution_count": 37,
     "metadata": {},
     "output_type": "execute_result"
    }
   ],
   "source": [
    "# Import our dependencies\n",
    "from sklearn.model_selection import train_test_split\n",
    "from sklearn.preprocessing import StandardScaler\n",
    "import pandas as pd\n",
    "import tensorflow as tf\n",
    "\n",
    "#  Import and read the charity_data.csv.\n",
    "import pandas as pd \n",
    "application_df = pd.read_csv(\"Resources/charity_data.csv\")\n",
    "application_df.head()"
   ]
  },
  {
   "cell_type": "code",
   "execution_count": 38,
   "metadata": {},
   "outputs": [],
   "source": [
    "# Drop the non-beneficial ID columns, 'EIN' and 'NAME'.\n",
    "application_df = application_df.drop(columns=['EIN', 'NAME', 'SPECIAL_CONSIDERATIONS', 'STATUS'])"
   ]
  },
  {
   "cell_type": "code",
   "execution_count": 39,
   "metadata": {},
   "outputs": [
    {
     "data": {
      "text/html": [
       "<div>\n",
       "<style scoped>\n",
       "    .dataframe tbody tr th:only-of-type {\n",
       "        vertical-align: middle;\n",
       "    }\n",
       "\n",
       "    .dataframe tbody tr th {\n",
       "        vertical-align: top;\n",
       "    }\n",
       "\n",
       "    .dataframe thead th {\n",
       "        text-align: right;\n",
       "    }\n",
       "</style>\n",
       "<table border=\"1\" class=\"dataframe\">\n",
       "  <thead>\n",
       "    <tr style=\"text-align: right;\">\n",
       "      <th></th>\n",
       "      <th>APPLICATION_TYPE</th>\n",
       "      <th>AFFILIATION</th>\n",
       "      <th>CLASSIFICATION</th>\n",
       "      <th>USE_CASE</th>\n",
       "      <th>ORGANIZATION</th>\n",
       "      <th>INCOME_AMT</th>\n",
       "      <th>ASK_AMT</th>\n",
       "      <th>IS_SUCCESSFUL</th>\n",
       "    </tr>\n",
       "  </thead>\n",
       "  <tbody>\n",
       "  </tbody>\n",
       "</table>\n",
       "</div>"
      ],
      "text/plain": [
       "Empty DataFrame\n",
       "Columns: [APPLICATION_TYPE, AFFILIATION, CLASSIFICATION, USE_CASE, ORGANIZATION, INCOME_AMT, ASK_AMT, IS_SUCCESSFUL]\n",
       "Index: []"
      ]
     },
     "execution_count": 39,
     "metadata": {},
     "output_type": "execute_result"
    }
   ],
   "source": [
    "#confirm the columsn were removed\n",
    "application_df.head(0)"
   ]
  },
  {
   "cell_type": "code",
   "execution_count": 40,
   "metadata": {},
   "outputs": [
    {
     "data": {
      "text/plain": [
       "APPLICATION_TYPE      17\n",
       "AFFILIATION            6\n",
       "CLASSIFICATION        71\n",
       "USE_CASE               5\n",
       "ORGANIZATION           4\n",
       "INCOME_AMT             9\n",
       "ASK_AMT             8747\n",
       "IS_SUCCESSFUL          2\n",
       "dtype: int64"
      ]
     },
     "execution_count": 40,
     "metadata": {},
     "output_type": "execute_result"
    }
   ],
   "source": [
    "# Determine the number of unique values in each column.\n",
    "application_df.nunique()"
   ]
  },
  {
   "cell_type": "code",
   "execution_count": 41,
   "metadata": {},
   "outputs": [
    {
     "data": {
      "text/plain": [
       "5000        25398\n",
       "10478           3\n",
       "15583           3\n",
       "63981           3\n",
       "6725            3\n",
       "            ...  \n",
       "5371754         1\n",
       "30060           1\n",
       "43091152        1\n",
       "18683           1\n",
       "36500179        1\n",
       "Name: ASK_AMT, Length: 8747, dtype: int64"
      ]
     },
     "execution_count": 41,
     "metadata": {},
     "output_type": "execute_result"
    }
   ],
   "source": [
    "application_df['ASK_AMT'].value_counts()"
   ]
  },
  {
   "cell_type": "code",
   "execution_count": 60,
   "metadata": {},
   "outputs": [],
   "source": [
    "# Assign values counts to a variable to create bins. \n",
    "ammount_counts = application_df['ASK_AMT'].value_counts()\n",
    "# gather all the application types that will be binned into \"Other\"\n",
    "ammount_types_to_replace = list(ammount_counts[ammount_counts<2].index)"
   ]
  },
  {
   "cell_type": "code",
   "execution_count": 62,
   "metadata": {},
   "outputs": [
    {
     "data": {
      "text/plain": [
       "5000     25398\n",
       "Other     8595\n",
       "63981        3\n",
       "15583        3\n",
       "6725         3\n",
       "         ...  \n",
       "40429        2\n",
       "57588        2\n",
       "20537        2\n",
       "34875        2\n",
       "5731         2\n",
       "Name: ASK_AMT, Length: 153, dtype: int64"
      ]
     },
     "execution_count": 62,
     "metadata": {},
     "output_type": "execute_result"
    }
   ],
   "source": [
    "# Replace in dataframe\n",
    "for count in ammount_types_to_replace:\n",
    "    application_df['ASK_AMT'] = application_df['ASK_AMT'].replace(count,\"Other\")\n",
    "\n",
    "# Check to make sure binning was successful\n",
    "application_df['ASK_AMT'].value_counts()"
   ]
  },
  {
   "cell_type": "code",
   "execution_count": 63,
   "metadata": {},
   "outputs": [
    {
     "data": {
      "text/plain": [
       "T3       27037\n",
       "T4        1542\n",
       "T6        1216\n",
       "T5        1173\n",
       "T19       1065\n",
       "T8         737\n",
       "T7         725\n",
       "T10        528\n",
       "Other      276\n",
       "Name: APPLICATION_TYPE, dtype: int64"
      ]
     },
     "execution_count": 63,
     "metadata": {},
     "output_type": "execute_result"
    }
   ],
   "source": [
    "# Look at APPLICATION_TYPE value counts for binning\n",
    "application_df['APPLICATION_TYPE'].value_counts()"
   ]
  },
  {
   "cell_type": "code",
   "execution_count": 64,
   "metadata": {},
   "outputs": [
    {
     "data": {
      "text/plain": [
       "['Other']"
      ]
     },
     "execution_count": 64,
     "metadata": {},
     "output_type": "execute_result"
    }
   ],
   "source": [
    "# Assign values counts to a variable to create bins. \n",
    "application_counts = application_df['APPLICATION_TYPE'].value_counts()\n",
    "# gather all the application types that will be binned into \"Other\"\n",
    "application_types_to_replace = list(application_counts[application_counts<500].index)\n",
    "application_types_to_replace"
   ]
  },
  {
   "cell_type": "code",
   "execution_count": 65,
   "metadata": {},
   "outputs": [
    {
     "data": {
      "text/plain": [
       "T3       27037\n",
       "T4        1542\n",
       "T6        1216\n",
       "T5        1173\n",
       "T19       1065\n",
       "T8         737\n",
       "T7         725\n",
       "T10        528\n",
       "Other      276\n",
       "Name: APPLICATION_TYPE, dtype: int64"
      ]
     },
     "execution_count": 65,
     "metadata": {},
     "output_type": "execute_result"
    }
   ],
   "source": [
    "# Replace in dataframe\n",
    "for app in application_types_to_replace:\n",
    "    application_df['APPLICATION_TYPE'] = application_df['APPLICATION_TYPE'].replace(app,\"Other\")\n",
    "\n",
    "# Check to make sure binning was successful\n",
    "application_df['APPLICATION_TYPE'].value_counts()"
   ]
  },
  {
   "cell_type": "code",
   "execution_count": 66,
   "metadata": {},
   "outputs": [
    {
     "data": {
      "text/plain": [
       "C1000    17326\n",
       "C2000     6074\n",
       "C1200     4837\n",
       "Other     2261\n",
       "C3000     1918\n",
       "C2100     1883\n",
       "Name: CLASSIFICATION, dtype: int64"
      ]
     },
     "execution_count": 66,
     "metadata": {},
     "output_type": "execute_result"
    }
   ],
   "source": [
    "# Look at CLASSIFICATION value counts for binning\n",
    "application_df['CLASSIFICATION'].value_counts()"
   ]
  },
  {
   "cell_type": "code",
   "execution_count": 67,
   "metadata": {},
   "outputs": [
    {
     "data": {
      "text/plain": [
       "C1000    17326\n",
       "C2000     6074\n",
       "C1200     4837\n",
       "Other     2261\n",
       "C3000     1918\n",
       "C2100     1883\n",
       "Name: CLASSIFICATION, dtype: int64"
      ]
     },
     "execution_count": 67,
     "metadata": {},
     "output_type": "execute_result"
    }
   ],
   "source": [
    "# You may find it helpful to look at CLASSIFICATION value counts >1\n",
    "application_df['CLASSIFICATION'].value_counts().loc[lambda x : x >1]"
   ]
  },
  {
   "cell_type": "code",
   "execution_count": 68,
   "metadata": {},
   "outputs": [
    {
     "data": {
      "text/plain": [
       "C1000    17326\n",
       "C2000     6074\n",
       "C1200     4837\n",
       "Other     2261\n",
       "C3000     1918\n",
       "C2100     1883\n",
       "Name: CLASSIFICATION, dtype: int64"
      ]
     },
     "execution_count": 68,
     "metadata": {},
     "output_type": "execute_result"
    }
   ],
   "source": [
    "# Choose a cutoff value and create a list of classifications to be replaced\n",
    "# use the variable name `classifications_to_replace`\n",
    "classification_counts = application_df['CLASSIFICATION'].value_counts()\n",
    "classifications_to_replace = list(classification_counts[classification_counts<1000].index)\n",
    "\n",
    "# Replace in dataframe\n",
    "for cls in classifications_to_replace:\n",
    "    application_df['CLASSIFICATION'] = application_df['CLASSIFICATION'].replace(cls,\"Other\")\n",
    "    \n",
    "# Check to make sure binning was successful\n",
    "application_df['CLASSIFICATION'].value_counts()"
   ]
  },
  {
   "cell_type": "code",
   "execution_count": 69,
   "metadata": {},
   "outputs": [
    {
     "data": {
      "text/html": [
       "<div>\n",
       "<style scoped>\n",
       "    .dataframe tbody tr th:only-of-type {\n",
       "        vertical-align: middle;\n",
       "    }\n",
       "\n",
       "    .dataframe tbody tr th {\n",
       "        vertical-align: top;\n",
       "    }\n",
       "\n",
       "    .dataframe thead th {\n",
       "        text-align: right;\n",
       "    }\n",
       "</style>\n",
       "<table border=\"1\" class=\"dataframe\">\n",
       "  <thead>\n",
       "    <tr style=\"text-align: right;\">\n",
       "      <th></th>\n",
       "      <th>IS_SUCCESSFUL</th>\n",
       "      <th>APPLICATION_TYPE_Other</th>\n",
       "      <th>APPLICATION_TYPE_T10</th>\n",
       "      <th>APPLICATION_TYPE_T19</th>\n",
       "      <th>APPLICATION_TYPE_T3</th>\n",
       "      <th>APPLICATION_TYPE_T4</th>\n",
       "      <th>APPLICATION_TYPE_T5</th>\n",
       "      <th>APPLICATION_TYPE_T6</th>\n",
       "      <th>APPLICATION_TYPE_T7</th>\n",
       "      <th>APPLICATION_TYPE_T8</th>\n",
       "      <th>...</th>\n",
       "      <th>ASK_AMT_195661</th>\n",
       "      <th>ASK_AMT_201112</th>\n",
       "      <th>ASK_AMT_206725</th>\n",
       "      <th>ASK_AMT_210432</th>\n",
       "      <th>ASK_AMT_238933</th>\n",
       "      <th>ASK_AMT_240780</th>\n",
       "      <th>ASK_AMT_246851</th>\n",
       "      <th>ASK_AMT_350000</th>\n",
       "      <th>ASK_AMT_1427468</th>\n",
       "      <th>ASK_AMT_Other</th>\n",
       "    </tr>\n",
       "  </thead>\n",
       "  <tbody>\n",
       "    <tr>\n",
       "      <th>0</th>\n",
       "      <td>1</td>\n",
       "      <td>0</td>\n",
       "      <td>1</td>\n",
       "      <td>0</td>\n",
       "      <td>0</td>\n",
       "      <td>0</td>\n",
       "      <td>0</td>\n",
       "      <td>0</td>\n",
       "      <td>0</td>\n",
       "      <td>0</td>\n",
       "      <td>...</td>\n",
       "      <td>0</td>\n",
       "      <td>0</td>\n",
       "      <td>0</td>\n",
       "      <td>0</td>\n",
       "      <td>0</td>\n",
       "      <td>0</td>\n",
       "      <td>0</td>\n",
       "      <td>0</td>\n",
       "      <td>0</td>\n",
       "      <td>0</td>\n",
       "    </tr>\n",
       "    <tr>\n",
       "      <th>1</th>\n",
       "      <td>1</td>\n",
       "      <td>0</td>\n",
       "      <td>0</td>\n",
       "      <td>0</td>\n",
       "      <td>1</td>\n",
       "      <td>0</td>\n",
       "      <td>0</td>\n",
       "      <td>0</td>\n",
       "      <td>0</td>\n",
       "      <td>0</td>\n",
       "      <td>...</td>\n",
       "      <td>0</td>\n",
       "      <td>0</td>\n",
       "      <td>0</td>\n",
       "      <td>0</td>\n",
       "      <td>0</td>\n",
       "      <td>0</td>\n",
       "      <td>0</td>\n",
       "      <td>0</td>\n",
       "      <td>0</td>\n",
       "      <td>1</td>\n",
       "    </tr>\n",
       "    <tr>\n",
       "      <th>2</th>\n",
       "      <td>0</td>\n",
       "      <td>0</td>\n",
       "      <td>0</td>\n",
       "      <td>0</td>\n",
       "      <td>0</td>\n",
       "      <td>0</td>\n",
       "      <td>1</td>\n",
       "      <td>0</td>\n",
       "      <td>0</td>\n",
       "      <td>0</td>\n",
       "      <td>...</td>\n",
       "      <td>0</td>\n",
       "      <td>0</td>\n",
       "      <td>0</td>\n",
       "      <td>0</td>\n",
       "      <td>0</td>\n",
       "      <td>0</td>\n",
       "      <td>0</td>\n",
       "      <td>0</td>\n",
       "      <td>0</td>\n",
       "      <td>0</td>\n",
       "    </tr>\n",
       "    <tr>\n",
       "      <th>3</th>\n",
       "      <td>1</td>\n",
       "      <td>0</td>\n",
       "      <td>0</td>\n",
       "      <td>0</td>\n",
       "      <td>1</td>\n",
       "      <td>0</td>\n",
       "      <td>0</td>\n",
       "      <td>0</td>\n",
       "      <td>0</td>\n",
       "      <td>0</td>\n",
       "      <td>...</td>\n",
       "      <td>0</td>\n",
       "      <td>0</td>\n",
       "      <td>0</td>\n",
       "      <td>0</td>\n",
       "      <td>0</td>\n",
       "      <td>0</td>\n",
       "      <td>0</td>\n",
       "      <td>0</td>\n",
       "      <td>0</td>\n",
       "      <td>1</td>\n",
       "    </tr>\n",
       "    <tr>\n",
       "      <th>4</th>\n",
       "      <td>1</td>\n",
       "      <td>0</td>\n",
       "      <td>0</td>\n",
       "      <td>0</td>\n",
       "      <td>1</td>\n",
       "      <td>0</td>\n",
       "      <td>0</td>\n",
       "      <td>0</td>\n",
       "      <td>0</td>\n",
       "      <td>0</td>\n",
       "      <td>...</td>\n",
       "      <td>0</td>\n",
       "      <td>0</td>\n",
       "      <td>0</td>\n",
       "      <td>0</td>\n",
       "      <td>0</td>\n",
       "      <td>0</td>\n",
       "      <td>0</td>\n",
       "      <td>0</td>\n",
       "      <td>0</td>\n",
       "      <td>1</td>\n",
       "    </tr>\n",
       "  </tbody>\n",
       "</table>\n",
       "<p>5 rows × 193 columns</p>\n",
       "</div>"
      ],
      "text/plain": [
       "   IS_SUCCESSFUL  APPLICATION_TYPE_Other  APPLICATION_TYPE_T10  \\\n",
       "0              1                       0                     1   \n",
       "1              1                       0                     0   \n",
       "2              0                       0                     0   \n",
       "3              1                       0                     0   \n",
       "4              1                       0                     0   \n",
       "\n",
       "   APPLICATION_TYPE_T19  APPLICATION_TYPE_T3  APPLICATION_TYPE_T4  \\\n",
       "0                     0                    0                    0   \n",
       "1                     0                    1                    0   \n",
       "2                     0                    0                    0   \n",
       "3                     0                    1                    0   \n",
       "4                     0                    1                    0   \n",
       "\n",
       "   APPLICATION_TYPE_T5  APPLICATION_TYPE_T6  APPLICATION_TYPE_T7  \\\n",
       "0                    0                    0                    0   \n",
       "1                    0                    0                    0   \n",
       "2                    1                    0                    0   \n",
       "3                    0                    0                    0   \n",
       "4                    0                    0                    0   \n",
       "\n",
       "   APPLICATION_TYPE_T8  ...  ASK_AMT_195661  ASK_AMT_201112  ASK_AMT_206725  \\\n",
       "0                    0  ...               0               0               0   \n",
       "1                    0  ...               0               0               0   \n",
       "2                    0  ...               0               0               0   \n",
       "3                    0  ...               0               0               0   \n",
       "4                    0  ...               0               0               0   \n",
       "\n",
       "   ASK_AMT_210432  ASK_AMT_238933  ASK_AMT_240780  ASK_AMT_246851  \\\n",
       "0               0               0               0               0   \n",
       "1               0               0               0               0   \n",
       "2               0               0               0               0   \n",
       "3               0               0               0               0   \n",
       "4               0               0               0               0   \n",
       "\n",
       "   ASK_AMT_350000  ASK_AMT_1427468  ASK_AMT_Other  \n",
       "0               0                0              0  \n",
       "1               0                0              1  \n",
       "2               0                0              0  \n",
       "3               0                0              1  \n",
       "4               0                0              1  \n",
       "\n",
       "[5 rows x 193 columns]"
      ]
     },
     "execution_count": 69,
     "metadata": {},
     "output_type": "execute_result"
    }
   ],
   "source": [
    "# Convert categorical data to numeric with `pd.get_dummies`\n",
    "application_dummy_df = pd.get_dummies(application_df)\n",
    "application_dummy_df.head()"
   ]
  },
  {
   "cell_type": "code",
   "execution_count": 70,
   "metadata": {},
   "outputs": [
    {
     "name": "stdout",
     "output_type": "stream",
     "text": [
      "(34299, 192) (34299,)\n"
     ]
    }
   ],
   "source": [
    "# Split our preprocessed data into our features and target arrays\n",
    "X = application_dummy_df.drop(\"IS_SUCCESSFUL\", axis=1).values\n",
    "y = application_dummy_df[\"IS_SUCCESSFUL\"].values\n",
    "print(X.shape, y.shape)"
   ]
  },
  {
   "cell_type": "code",
   "execution_count": 71,
   "metadata": {},
   "outputs": [
    {
     "name": "stdout",
     "output_type": "stream",
     "text": [
      "(27439, 192) (27439,) (6860, 192) (6860,)\n"
     ]
    }
   ],
   "source": [
    "# Split the preprocessed data into a training and testing dataset\n",
    "X_train, X_test, y_train, y_test = train_test_split(X, y, test_size = 0.20, random_state=42)\n",
    "\n",
    "print(X_train.shape, y_train.shape, X_test.shape, y_test.shape)"
   ]
  },
  {
   "cell_type": "code",
   "execution_count": 72,
   "metadata": {},
   "outputs": [
    {
     "name": "stdout",
     "output_type": "stream",
     "text": [
      "(27439, 192) (6860, 192)\n"
     ]
    }
   ],
   "source": [
    "# Create a StandardScaler instances\n",
    "scaler = StandardScaler()\n",
    "\n",
    "# Fit the StandardScaler\n",
    "X_scaler = scaler.fit(X_train)\n",
    "\n",
    "# Scale the data\n",
    "X_train_scaled = X_scaler.transform(X_train)\n",
    "X_test_scaled = X_scaler.transform(X_test)\n",
    "\n",
    "print(X_train_scaled.shape, X_test_scaled.shape)"
   ]
  },
  {
   "cell_type": "markdown",
   "metadata": {},
   "source": [
    "## Compile, Train and Evaluate the Model"
   ]
  },
  {
   "cell_type": "code",
   "execution_count": 82,
   "metadata": {},
   "outputs": [
    {
     "name": "stdout",
     "output_type": "stream",
     "text": [
      "Model: \"sequential_6\"\n",
      "_________________________________________________________________\n",
      " Layer (type)                Output Shape              Param #   \n",
      "=================================================================\n",
      " dense_12 (Dense)            (None, 80)                15440     \n",
      "                                                                 \n",
      " dense_13 (Dense)            (None, 40)                3240      \n",
      "                                                                 \n",
      " dense_14 (Dense)            (None, 20)                820       \n",
      "                                                                 \n",
      " dense_15 (Dense)            (None, 10)                210       \n",
      "                                                                 \n",
      " dense_16 (Dense)            (None, 5)                 55        \n",
      "                                                                 \n",
      "=================================================================\n",
      "Total params: 19,765\n",
      "Trainable params: 19,765\n",
      "Non-trainable params: 0\n",
      "_________________________________________________________________\n"
     ]
    }
   ],
   "source": [
    "# Define the model - deep neural net, i.e., the number of input features and hidden nodes for each layer.\n",
    "nn = tf.keras.models.Sequential()\n",
    "\n",
    "# First hidden layer\n",
    "nn.add(tf.keras.layers.Dense(units=80, activation=\"relu\", input_dim=192))\n",
    "\n",
    "# Second hidden layer\n",
    "nn.add(tf.keras.layers.Dense(units=40, activation=\"relu\", input_dim=192))\n",
    "# Second hidden layer\n",
    "nn.add(tf.keras.layers.Dense(units=20, activation=\"relu\", input_dim=192))\n",
    "# Second hidden layer\n",
    "nn.add(tf.keras.layers.Dense(units=10, activation=\"relu\", input_dim=192))\n",
    "# Second hidden layer\n",
    "nn.add(tf.keras.layers.Dense(units=5, activation=\"relu\", input_dim=192))\n",
    "\n",
    "# Check the structure of the model\n",
    "nn.summary()"
   ]
  },
  {
   "cell_type": "code",
   "execution_count": 83,
   "metadata": {},
   "outputs": [],
   "source": [
    "# Compile the model\n",
    "nn.compile(loss=\"binary_crossentropy\", optimizer=\"adam\", metrics=[\"accuracy\"])"
   ]
  },
  {
   "cell_type": "code",
   "execution_count": 84,
   "metadata": {},
   "outputs": [
    {
     "name": "stdout",
     "output_type": "stream",
     "text": [
      "Epoch 1/80\n",
      "686/686 [==============================] - 2s 2ms/step - loss: 1.0772 - accuracy: 0.1106 - val_loss: 0.6252 - val_accuracy: 0.1002\n",
      "Epoch 2/80\n",
      "686/686 [==============================] - 1s 1ms/step - loss: 0.6172 - accuracy: 0.1189 - val_loss: 0.6334 - val_accuracy: 0.0297\n",
      "Epoch 3/80\n",
      "686/686 [==============================] - 1s 1ms/step - loss: 0.6047 - accuracy: 0.1702 - val_loss: 0.5821 - val_accuracy: 0.2624\n",
      "Epoch 4/80\n",
      "686/686 [==============================] - 1s 1ms/step - loss: 0.5822 - accuracy: 0.1404 - val_loss: 0.5709 - val_accuracy: 0.1390\n",
      "Epoch 5/80\n",
      "686/686 [==============================] - 1s 2ms/step - loss: 0.5714 - accuracy: 0.1328 - val_loss: 0.5651 - val_accuracy: 0.2673\n",
      "Epoch 6/80\n",
      "686/686 [==============================] - 1s 1ms/step - loss: 0.5687 - accuracy: 0.1530 - val_loss: 0.5765 - val_accuracy: 0.2425\n",
      "Epoch 7/80\n",
      "686/686 [==============================] - 1s 1ms/step - loss: 0.5691 - accuracy: 0.0995 - val_loss: 0.5705 - val_accuracy: 0.1507\n",
      "Epoch 8/80\n",
      "686/686 [==============================] - 1s 1ms/step - loss: 0.5631 - accuracy: 0.1896 - val_loss: 0.5642 - val_accuracy: 0.2748\n",
      "Epoch 9/80\n",
      "686/686 [==============================] - 1s 1ms/step - loss: 0.5594 - accuracy: 0.2596 - val_loss: 0.5700 - val_accuracy: 0.2305\n",
      "Epoch 10/80\n",
      "686/686 [==============================] - 1s 1ms/step - loss: 0.5628 - accuracy: 0.1854 - val_loss: 0.5674 - val_accuracy: 0.0620\n",
      "Epoch 11/80\n",
      "686/686 [==============================] - 1s 1ms/step - loss: 0.5582 - accuracy: 0.2080 - val_loss: 0.5648 - val_accuracy: 0.1137\n",
      "Epoch 12/80\n",
      "686/686 [==============================] - 1s 1ms/step - loss: 0.5606 - accuracy: 0.1780 - val_loss: 0.5737 - val_accuracy: 0.1414\n",
      "Epoch 13/80\n",
      "686/686 [==============================] - 1s 2ms/step - loss: 0.5610 - accuracy: 0.2738 - val_loss: 0.5832 - val_accuracy: 0.4395\n",
      "Epoch 14/80\n",
      "686/686 [==============================] - 1s 1ms/step - loss: 0.5674 - accuracy: 0.3026 - val_loss: 0.5639 - val_accuracy: 0.4043\n",
      "Epoch 15/80\n",
      "686/686 [==============================] - 1s 1ms/step - loss: 0.5578 - accuracy: 0.3101 - val_loss: 0.5707 - val_accuracy: 0.1407\n",
      "Epoch 16/80\n",
      "686/686 [==============================] - 1s 1ms/step - loss: 0.5598 - accuracy: 0.1380 - val_loss: 0.5631 - val_accuracy: 0.1228\n",
      "Epoch 17/80\n",
      "686/686 [==============================] - 1s 1ms/step - loss: 0.5604 - accuracy: 0.0904 - val_loss: 0.5706 - val_accuracy: 0.0882\n",
      "Epoch 18/80\n",
      "686/686 [==============================] - 1s 1ms/step - loss: 0.5620 - accuracy: 0.1223 - val_loss: 0.5637 - val_accuracy: 0.2812\n",
      "Epoch 19/80\n",
      "686/686 [==============================] - 1s 1ms/step - loss: 0.5620 - accuracy: 0.1053 - val_loss: 0.5607 - val_accuracy: 0.0740\n",
      "Epoch 20/80\n",
      "686/686 [==============================] - 1s 1ms/step - loss: 0.5538 - accuracy: 0.1071 - val_loss: 0.5630 - val_accuracy: 0.0601\n",
      "Epoch 21/80\n",
      "686/686 [==============================] - 1s 1ms/step - loss: 0.5551 - accuracy: 0.1703 - val_loss: 0.5776 - val_accuracy: 0.3661\n",
      "Epoch 22/80\n",
      "686/686 [==============================] - 1s 1ms/step - loss: 0.5556 - accuracy: 0.1517 - val_loss: 0.5658 - val_accuracy: 0.0754\n",
      "Epoch 23/80\n",
      "686/686 [==============================] - 1s 1ms/step - loss: 0.5523 - accuracy: 0.1215 - val_loss: 0.5752 - val_accuracy: 0.0015\n",
      "Epoch 24/80\n",
      "686/686 [==============================] - 1s 1ms/step - loss: 0.5672 - accuracy: 0.0899 - val_loss: 0.5874 - val_accuracy: 0.0000e+00\n",
      "Epoch 25/80\n",
      "686/686 [==============================] - 1s 1ms/step - loss: 0.5735 - accuracy: 0.1409 - val_loss: 0.5691 - val_accuracy: 0.2041\n",
      "Epoch 26/80\n",
      "686/686 [==============================] - 1s 1ms/step - loss: 0.5658 - accuracy: 0.2214 - val_loss: 0.5661 - val_accuracy: 0.2312\n",
      "Epoch 27/80\n",
      "686/686 [==============================] - 1s 1ms/step - loss: 0.5537 - accuracy: 0.1258 - val_loss: 0.5615 - val_accuracy: 0.4009\n",
      "Epoch 28/80\n",
      "686/686 [==============================] - 1s 1ms/step - loss: 0.5536 - accuracy: 0.1591 - val_loss: 0.5637 - val_accuracy: 0.2679\n",
      "Epoch 29/80\n",
      "686/686 [==============================] - 1s 1ms/step - loss: 0.5599 - accuracy: 0.1969 - val_loss: 0.5721 - val_accuracy: 0.1460\n",
      "Epoch 30/80\n",
      "686/686 [==============================] - 1s 1ms/step - loss: 0.5566 - accuracy: 0.1483 - val_loss: 0.5686 - val_accuracy: 0.1398\n",
      "Epoch 31/80\n",
      "686/686 [==============================] - 1s 1ms/step - loss: 0.5571 - accuracy: 0.1063 - val_loss: 0.5644 - val_accuracy: 0.0026\n",
      "Epoch 32/80\n",
      "686/686 [==============================] - 1s 1ms/step - loss: 0.5550 - accuracy: 0.0487 - val_loss: 0.5769 - val_accuracy: 0.0386\n",
      "Epoch 33/80\n",
      "686/686 [==============================] - 1s 1ms/step - loss: 0.5606 - accuracy: 0.1148 - val_loss: 0.5740 - val_accuracy: 0.3351\n",
      "Epoch 34/80\n",
      "686/686 [==============================] - 1s 1ms/step - loss: 0.5526 - accuracy: 0.0508 - val_loss: 0.5728 - val_accuracy: 0.0286\n",
      "Epoch 35/80\n",
      "686/686 [==============================] - 1s 1ms/step - loss: 0.5524 - accuracy: 0.1069 - val_loss: 0.5700 - val_accuracy: 0.1899\n",
      "Epoch 36/80\n",
      "686/686 [==============================] - 1s 1ms/step - loss: 0.5507 - accuracy: 0.0464 - val_loss: 0.5626 - val_accuracy: 0.0250\n",
      "Epoch 37/80\n",
      "686/686 [==============================] - 1s 1ms/step - loss: 0.5557 - accuracy: 0.0369 - val_loss: 0.5869 - val_accuracy: 0.0000e+00\n",
      "Epoch 38/80\n",
      "686/686 [==============================] - 1s 1ms/step - loss: 0.5537 - accuracy: 0.0352 - val_loss: 0.5742 - val_accuracy: 0.1707\n",
      "Epoch 39/80\n",
      "686/686 [==============================] - 1s 1ms/step - loss: 0.5622 - accuracy: 0.0406 - val_loss: 0.5995 - val_accuracy: 0.1314\n",
      "Epoch 40/80\n",
      "686/686 [==============================] - 1s 1ms/step - loss: 0.5598 - accuracy: 0.0602 - val_loss: 0.5747 - val_accuracy: 0.0109\n",
      "Epoch 41/80\n",
      "686/686 [==============================] - 1s 1ms/step - loss: 0.5511 - accuracy: 0.0720 - val_loss: 0.5676 - val_accuracy: 0.1722\n",
      "Epoch 42/80\n",
      "686/686 [==============================] - 1s 1ms/step - loss: 0.5529 - accuracy: 0.0749 - val_loss: 0.5721 - val_accuracy: 0.0073\n",
      "Epoch 43/80\n",
      "686/686 [==============================] - 1s 1ms/step - loss: 0.5525 - accuracy: 0.0459 - val_loss: 0.5852 - val_accuracy: 0.0000e+00\n",
      "Epoch 44/80\n",
      "686/686 [==============================] - 1s 1ms/step - loss: 0.5892 - accuracy: 0.1043 - val_loss: 0.6044 - val_accuracy: 0.0572\n",
      "Epoch 45/80\n",
      "686/686 [==============================] - 1s 1ms/step - loss: 0.5656 - accuracy: 0.1527 - val_loss: 0.5983 - val_accuracy: 0.1527\n",
      "Epoch 46/80\n",
      "686/686 [==============================] - 1s 1ms/step - loss: 0.5553 - accuracy: 0.1330 - val_loss: 0.5842 - val_accuracy: 0.0095\n",
      "Epoch 47/80\n",
      "686/686 [==============================] - 1s 1ms/step - loss: 0.5578 - accuracy: 0.1352 - val_loss: 0.5857 - val_accuracy: 0.0517\n",
      "Epoch 48/80\n",
      "686/686 [==============================] - 1s 1ms/step - loss: 0.5519 - accuracy: 0.0989 - val_loss: 0.5746 - val_accuracy: 0.0951\n",
      "Epoch 49/80\n",
      "686/686 [==============================] - 1s 1ms/step - loss: 0.5507 - accuracy: 0.0675 - val_loss: 0.5597 - val_accuracy: 0.1195\n",
      "Epoch 50/80\n",
      "686/686 [==============================] - 1s 1ms/step - loss: 0.5537 - accuracy: 0.1486 - val_loss: 0.5593 - val_accuracy: 0.1481\n",
      "Epoch 51/80\n",
      "686/686 [==============================] - 1s 1ms/step - loss: 0.5567 - accuracy: 0.0589 - val_loss: 0.5817 - val_accuracy: 0.0000e+00\n",
      "Epoch 52/80\n",
      "686/686 [==============================] - 1s 1ms/step - loss: 0.5530 - accuracy: 0.0973 - val_loss: 0.5696 - val_accuracy: 0.0157\n",
      "Epoch 53/80\n",
      "686/686 [==============================] - 1s 1ms/step - loss: 0.5532 - accuracy: 0.0576 - val_loss: 0.5735 - val_accuracy: 0.0093\n",
      "Epoch 54/80\n",
      "686/686 [==============================] - 1s 1ms/step - loss: 0.5689 - accuracy: 0.1183 - val_loss: 0.6082 - val_accuracy: 0.0000e+00\n",
      "Epoch 55/80\n",
      "686/686 [==============================] - 1s 1ms/step - loss: 0.5518 - accuracy: 0.0873 - val_loss: 0.5743 - val_accuracy: 0.0822\n",
      "Epoch 56/80\n",
      "686/686 [==============================] - 1s 1ms/step - loss: 0.5525 - accuracy: 0.0815 - val_loss: 0.5981 - val_accuracy: 0.4805\n",
      "Epoch 57/80\n",
      "686/686 [==============================] - 1s 1ms/step - loss: 0.5564 - accuracy: 0.0747 - val_loss: 0.5647 - val_accuracy: 0.0040\n",
      "Epoch 58/80\n",
      "686/686 [==============================] - 1s 1ms/step - loss: 0.5482 - accuracy: 0.0315 - val_loss: 0.5727 - val_accuracy: 0.0026\n",
      "Epoch 59/80\n",
      "686/686 [==============================] - 1s 1ms/step - loss: 0.5498 - accuracy: 0.0829 - val_loss: 0.5780 - val_accuracy: 0.3172\n",
      "Epoch 60/80\n",
      "686/686 [==============================] - 1s 1ms/step - loss: 0.5483 - accuracy: 0.1214 - val_loss: 0.5865 - val_accuracy: 0.3391\n",
      "Epoch 61/80\n",
      "686/686 [==============================] - 1s 1ms/step - loss: 0.5478 - accuracy: 0.0647 - val_loss: 0.5781 - val_accuracy: 0.0825\n",
      "Epoch 62/80\n",
      "686/686 [==============================] - 1s 1ms/step - loss: 0.5493 - accuracy: 0.0470 - val_loss: 0.5854 - val_accuracy: 0.0749\n",
      "Epoch 63/80\n",
      "686/686 [==============================] - 1s 1ms/step - loss: 0.5525 - accuracy: 0.0730 - val_loss: 0.5723 - val_accuracy: 0.0725\n",
      "Epoch 64/80\n",
      "686/686 [==============================] - 1s 1ms/step - loss: 0.5492 - accuracy: 0.0900 - val_loss: 0.5718 - val_accuracy: 0.1283\n",
      "Epoch 65/80\n",
      "686/686 [==============================] - 1s 2ms/step - loss: 0.5693 - accuracy: 0.1237 - val_loss: 0.5983 - val_accuracy: 1.8222e-04\n",
      "Epoch 66/80\n",
      "686/686 [==============================] - 1s 2ms/step - loss: 0.5537 - accuracy: 0.1023 - val_loss: 0.5781 - val_accuracy: 0.1008\n",
      "Epoch 67/80\n",
      "686/686 [==============================] - 1s 1ms/step - loss: 0.5511 - accuracy: 0.0931 - val_loss: 0.5821 - val_accuracy: 0.0729\n",
      "Epoch 68/80\n",
      "686/686 [==============================] - 1s 2ms/step - loss: 0.5493 - accuracy: 0.0571 - val_loss: 0.5874 - val_accuracy: 0.0477\n",
      "Epoch 69/80\n",
      "686/686 [==============================] - 1s 2ms/step - loss: 0.5496 - accuracy: 0.1400 - val_loss: 0.5706 - val_accuracy: 0.2290\n",
      "Epoch 70/80\n",
      "686/686 [==============================] - 1s 2ms/step - loss: 0.5482 - accuracy: 0.1196 - val_loss: 0.5854 - val_accuracy: 0.0106\n",
      "Epoch 71/80\n",
      "686/686 [==============================] - 1s 1ms/step - loss: 0.5482 - accuracy: 0.0674 - val_loss: 0.5830 - val_accuracy: 0.0200\n",
      "Epoch 72/80\n",
      "686/686 [==============================] - 1s 1ms/step - loss: 0.5548 - accuracy: 0.1292 - val_loss: 0.6433 - val_accuracy: 0.5204\n",
      "Epoch 73/80\n",
      "686/686 [==============================] - 1s 1ms/step - loss: 0.5733 - accuracy: 0.1917 - val_loss: 0.5742 - val_accuracy: 0.0410\n",
      "Epoch 74/80\n",
      "686/686 [==============================] - 1s 1ms/step - loss: 0.5539 - accuracy: 0.1793 - val_loss: 0.5693 - val_accuracy: 0.1266\n",
      "Epoch 75/80\n",
      "686/686 [==============================] - 1s 1ms/step - loss: 0.5486 - accuracy: 0.1684 - val_loss: 0.5860 - val_accuracy: 0.1620\n",
      "Epoch 76/80\n",
      "686/686 [==============================] - 1s 1ms/step - loss: 0.5852 - accuracy: 0.1691 - val_loss: 0.6009 - val_accuracy: 0.3014\n",
      "Epoch 77/80\n",
      "686/686 [==============================] - 1s 1ms/step - loss: 0.5624 - accuracy: 0.1810 - val_loss: 0.6071 - val_accuracy: 0.2351\n",
      "Epoch 78/80\n",
      "686/686 [==============================] - 1s 1ms/step - loss: 0.5533 - accuracy: 0.1540 - val_loss: 0.6053 - val_accuracy: 0.1571\n",
      "Epoch 79/80\n",
      "686/686 [==============================] - 1s 1ms/step - loss: 0.5512 - accuracy: 0.1879 - val_loss: 0.6051 - val_accuracy: 0.2221\n",
      "Epoch 80/80\n",
      "686/686 [==============================] - 1s 1ms/step - loss: 0.5502 - accuracy: 0.2215 - val_loss: 0.5924 - val_accuracy: 0.2420\n"
     ]
    }
   ],
   "source": [
    "# Train the model\n",
    "fit_model = nn.fit(X_train_scaled, y_train, validation_split=0.20, epochs=80)"
   ]
  },
  {
   "cell_type": "code",
   "execution_count": 80,
   "metadata": {},
   "outputs": [
    {
     "name": "stdout",
     "output_type": "stream",
     "text": [
      "215/215 - 0s - loss: 0.6659 - accuracy: 0.0420 - 192ms/epoch - 894us/step\n",
      "Loss: 0.6658861637115479, Accuracy: 0.0419825054705143\n"
     ]
    }
   ],
   "source": [
    "# Evaluate the model using the test data\n",
    "model_loss, model_accuracy = nn.evaluate(X_test_scaled,y_test,verbose=2)\n",
    "print(f\"Loss: {model_loss}, Accuracy: {model_accuracy}\")"
   ]
  },
  {
   "cell_type": "code",
   "execution_count": 81,
   "metadata": {},
   "outputs": [
    {
     "data": {
      "text/plain": [
       "<AxesSubplot:>"
      ]
     },
     "execution_count": 81,
     "metadata": {},
     "output_type": "execute_result"
    },
    {
     "data": {
      "image/png": "[encoded data removed]",
      "text/plain": [
       "<Figure size 640x480 with 1 Axes>"
      ]
     },
     "metadata": {},
     "output_type": "display_data"
    }
   ],
   "source": [
    "# Create a DataFrame containing training history\n",
    "history_df = pd.DataFrame(fit_model.history, index=range(1,len(fit_model.history[\"loss\"])+1))\n",
    "\n",
    "# Plot the accuracy\n",
    "history_df.plot(y=\"accuracy\")"
   ]
  },
  {
   "attachments": {},
   "cell_type": "markdown",
   "metadata": {},
   "source": [
    "Putting ASK_AMT (Ask Ammount) bins with values ask below 1 and assigning it to 'Other', and additing additional hidden layers performed worse than Attempt 2. I am going to make one last attempt to only adjust the hidden layer, validtion split and neauron values to see if I can achieve a 75% accuracy. "
   ]
  }
 ],
 "metadata": {
  "kernelspec": {
   "display_name": "PythonML",
   "language": "python",
   "name": "python3"
  },
  "language_info": {
   "codemirror_mode": {
    "name": "ipython",
    "version": 3
   },
   "file_extension": ".py",
   "mimetype": "text/x-python",
   "name": "python",
   "nbconvert_exporter": "python",
   "pygments_lexer": "ipython3",
   "version": "3.7.7"
  },
  "vscode": {
   "interpreter": {
    "hash": "16fd6db726b79cbf3b87d528332921b610d7d3aef1e46f3518c7f18f49654b4f"
   }
  }
 },
 "nbformat": 4,
 "nbformat_minor": 4
}
